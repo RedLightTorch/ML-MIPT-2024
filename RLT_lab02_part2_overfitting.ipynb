{
  "cells": [
    {
      "cell_type": "markdown",
      "metadata": {
        "id": "NFmOh482SyEF"
      },
      "source": [
        "## Lab 2\n",
        "### Part 2: Dealing with overfitting"
      ]
    },
    {
      "cell_type": "markdown",
      "metadata": {
        "id": "AjzAuO3oSvsI"
      },
      "source": [
        "Today we work with [Fashion-MNIST dataset](https://github.com/zalandoresearch/fashion-mnist) (*hint: it is available in `torchvision`*).\n",
        "\n",
        "Your goal for today:\n",
        "1. Train a FC (fully-connected) network that achieves >= 0.885 test accuracy.\n",
        "2. Cause considerable overfitting by modifying the network (e.g. increasing the number of network parameters and/or layers) and demonstrate in in the appropriate way (e.g. plot loss and accurasy on train and validation set w.r.t. network complexity).\n",
        "3. Try to deal with overfitting (at least partially) by using regularization techniques (Dropout/Batchnorm/...) and demonstrate the results.\n",
        "\n",
        "__Please, write a small report describing your ideas, tries and achieved results in the end of this file.__\n",
        "\n",
        "*Note*: Tasks 2 and 3 are interrelated, in task 3 your goal is to make the network from task 2 less prone to overfitting. Task 1 is independent from 2 and 3.\n",
        "\n",
        "*Note 2*: We recomment to use Google Colab or other machine with GPU acceleration."
      ]
    },
    {
      "cell_type": "code",
      "execution_count": null,
      "metadata": {
        "id": "_KBld6VOSwhW"
      },
      "outputs": [],
      "source": [
        "import torch\n",
        "import torch.nn as nn\n",
        "import torchvision\n",
        "import torchvision.transforms as transforms\n",
        "import torchsummary\n",
        "from IPython.display import clear_output\n",
        "from matplotlib import pyplot as plt\n",
        "from matplotlib.pyplot import figure\n",
        "import numpy as np\n",
        "import os\n",
        "import torch.optim as optim\n",
        "\n",
        "\n",
        "device = 'cuda:0' if torch.cuda.is_available() else 'cpu'"
      ]
    },
    {
      "cell_type": "code",
      "execution_count": null,
      "metadata": {
        "colab": {
          "base_uri": "https://localhost:8080/"
        },
        "id": "EdLOG0XqS_g5",
        "outputId": "8bc8bfcb-f961-42d7-cefb-544ad80a1c7b"
      },
      "outputs": [
        {
          "output_type": "stream",
          "name": "stdout",
          "text": [
            "Directory fmnist is created!\n"
          ]
        }
      ],
      "source": [
        "# Technical function\n",
        "def mkdir(path):\n",
        "    if not os.path.exists(root_path):\n",
        "        os.mkdir(root_path)\n",
        "        print('Directory', path, 'is created!')\n",
        "    else:\n",
        "        print('Directory', path, 'already exists!')\n",
        "\n",
        "root_path = 'fmnist'\n",
        "mkdir(root_path)"
      ]
    },
    {
      "cell_type": "code",
      "execution_count": null,
      "metadata": {
        "id": "qt6LE7XaTDT9",
        "colab": {
          "base_uri": "https://localhost:8080/"
        },
        "outputId": "3082a186-447f-40bc-a91a-ea5563fa0b58"
      },
      "outputs": [
        {
          "output_type": "stream",
          "name": "stdout",
          "text": [
            "Downloading http://fashion-mnist.s3-website.eu-central-1.amazonaws.com/train-images-idx3-ubyte.gz\n",
            "Downloading http://fashion-mnist.s3-website.eu-central-1.amazonaws.com/train-images-idx3-ubyte.gz to fmnist/FashionMNIST/raw/train-images-idx3-ubyte.gz\n"
          ]
        },
        {
          "output_type": "stream",
          "name": "stderr",
          "text": [
            "100%|██████████| 26.4M/26.4M [00:01<00:00, 13.8MB/s]\n"
          ]
        },
        {
          "output_type": "stream",
          "name": "stdout",
          "text": [
            "Extracting fmnist/FashionMNIST/raw/train-images-idx3-ubyte.gz to fmnist/FashionMNIST/raw\n",
            "\n",
            "Downloading http://fashion-mnist.s3-website.eu-central-1.amazonaws.com/train-labels-idx1-ubyte.gz\n",
            "Downloading http://fashion-mnist.s3-website.eu-central-1.amazonaws.com/train-labels-idx1-ubyte.gz to fmnist/FashionMNIST/raw/train-labels-idx1-ubyte.gz\n"
          ]
        },
        {
          "output_type": "stream",
          "name": "stderr",
          "text": [
            "100%|██████████| 29.5k/29.5k [00:00<00:00, 303kB/s]\n"
          ]
        },
        {
          "output_type": "stream",
          "name": "stdout",
          "text": [
            "Extracting fmnist/FashionMNIST/raw/train-labels-idx1-ubyte.gz to fmnist/FashionMNIST/raw\n",
            "\n",
            "Downloading http://fashion-mnist.s3-website.eu-central-1.amazonaws.com/t10k-images-idx3-ubyte.gz\n",
            "Downloading http://fashion-mnist.s3-website.eu-central-1.amazonaws.com/t10k-images-idx3-ubyte.gz to fmnist/FashionMNIST/raw/t10k-images-idx3-ubyte.gz\n"
          ]
        },
        {
          "output_type": "stream",
          "name": "stderr",
          "text": [
            "100%|██████████| 4.42M/4.42M [00:00<00:00, 5.61MB/s]\n"
          ]
        },
        {
          "output_type": "stream",
          "name": "stdout",
          "text": [
            "Extracting fmnist/FashionMNIST/raw/t10k-images-idx3-ubyte.gz to fmnist/FashionMNIST/raw\n",
            "\n",
            "Downloading http://fashion-mnist.s3-website.eu-central-1.amazonaws.com/t10k-labels-idx1-ubyte.gz\n",
            "Downloading http://fashion-mnist.s3-website.eu-central-1.amazonaws.com/t10k-labels-idx1-ubyte.gz to fmnist/FashionMNIST/raw/t10k-labels-idx1-ubyte.gz\n"
          ]
        },
        {
          "output_type": "stream",
          "name": "stderr",
          "text": [
            "100%|██████████| 5.15k/5.15k [00:00<00:00, 6.12MB/s]"
          ]
        },
        {
          "output_type": "stream",
          "name": "stdout",
          "text": [
            "Extracting fmnist/FashionMNIST/raw/t10k-labels-idx1-ubyte.gz to fmnist/FashionMNIST/raw\n",
            "\n"
          ]
        },
        {
          "output_type": "stream",
          "name": "stderr",
          "text": [
            "\n"
          ]
        }
      ],
      "source": [
        "download = True\n",
        "train_transform = transforms.ToTensor()\n",
        "test_transform = transforms.ToTensor()\n",
        "transforms.Compose((transforms.ToTensor()))\n",
        "\n",
        "\n",
        "fmnist_dataset_train = torchvision.datasets.FashionMNIST(root_path,\n",
        "                                                        train=True,\n",
        "                                                        transform=train_transform,\n",
        "                                                        target_transform=None,\n",
        "                                                        download=download)\n",
        "fmnist_dataset_test = torchvision.datasets.FashionMNIST(root_path,\n",
        "                                                       train=False,\n",
        "                                                       transform=test_transform,\n",
        "                                                       target_transform=None,\n",
        "                                                       download=download)"
      ]
    },
    {
      "cell_type": "code",
      "execution_count": null,
      "metadata": {
        "id": "71YP0SPwTIxD"
      },
      "outputs": [],
      "source": [
        "train_loader = torch.utils.data.DataLoader(fmnist_dataset_train,\n",
        "                                           batch_size=128,\n",
        "                                           shuffle=True,\n",
        "                                           num_workers=2)\n",
        "test_loader = torch.utils.data.DataLoader(fmnist_dataset_test,\n",
        "                                          batch_size=256,\n",
        "                                          shuffle=False,\n",
        "                                          num_workers=2)"
      ]
    },
    {
      "cell_type": "code",
      "execution_count": null,
      "metadata": {
        "colab": {
          "base_uri": "https://localhost:8080/"
        },
        "id": "v_YFmF7NTWrQ",
        "outputId": "fc5852ed-7119-4961-e161-cfd6e1b252b2"
      },
      "outputs": [
        {
          "output_type": "execute_result",
          "data": {
            "text/plain": [
              "10000"
            ]
          },
          "metadata": {},
          "execution_count": 5
        }
      ],
      "source": [
        "len(fmnist_dataset_test)"
      ]
    },
    {
      "cell_type": "code",
      "execution_count": null,
      "metadata": {
        "colab": {
          "base_uri": "https://localhost:8080/"
        },
        "id": "aHca15bOTY4B",
        "outputId": "ae58e4ed-e019-4e0a-ebef-6952a556a80a"
      },
      "outputs": [
        {
          "output_type": "stream",
          "name": "stdout",
          "text": [
            "torch.Size([128, 1, 28, 28])\n",
            "torch.Size([128])\n",
            "128\n"
          ]
        }
      ],
      "source": [
        "for img, label in train_loader:\n",
        "    print(img.shape)\n",
        "#     print(img)\n",
        "    print(label.shape)\n",
        "    print(label.size(0))\n",
        "    break"
      ]
    },
    {
      "cell_type": "markdown",
      "metadata": {
        "id": "b6OOOffHTfX5"
      },
      "source": [
        "### Task 1\n",
        "Train a network that achieves $\\geq 0.885$ test accuracy. It's fine to use only Linear (`nn.Linear`) layers and activations/dropout/batchnorm. Convolutional layers might be a great use, but we will meet them a bit later."
      ]
    },
    {
      "cell_type": "code",
      "execution_count": null,
      "metadata": {
        "id": "ftpkTjxlTcFx"
      },
      "outputs": [],
      "source": [
        "class TinyNeuralNetwork(nn.Module):\n",
        "    def __init__(self, input_shape=28*28, num_classes=10, input_channels=1):\n",
        "        super(self.__class__, self).__init__()\n",
        "        self.model = nn.Sequential(\n",
        "            nn.Flatten(), # This layer converts image into a vector to use Linear layers afterwards\n",
        "            # Your network structure comes here\n",
        "            nn.Linear(input_shape, 512),\n",
        "            nn.BatchNorm1d(512),\n",
        "            nn.ReLU(),\n",
        "            nn.Dropout(0.3),\n",
        "            nn.Linear(512, 256),\n",
        "            nn.BatchNorm1d(256),\n",
        "            nn.ReLU(),\n",
        "            nn.Linear(256, 128),\n",
        "            nn.BatchNorm1d(128),\n",
        "            nn.ReLU(),\n",
        "            nn.Linear(128, num_classes)  # Выходной слой для предсказания классов\n",
        "        )\n",
        "\n",
        "    def forward(self, inp):\n",
        "        out = self.model(inp)\n",
        "        return out"
      ]
    },
    {
      "cell_type": "code",
      "execution_count": null,
      "metadata": {
        "colab": {
          "base_uri": "https://localhost:8080/"
        },
        "id": "FKAd8i-GCvr5",
        "outputId": "c3061bcc-bc98-4fd6-b2c8-63a58fdfbcb2"
      },
      "outputs": [
        {
          "output_type": "stream",
          "name": "stdout",
          "text": [
            "----------------------------------------------------------------\n",
            "        Layer (type)               Output Shape         Param #\n",
            "================================================================\n",
            "           Flatten-1                  [-1, 784]               0\n",
            "            Linear-2                  [-1, 512]         401,920\n",
            "       BatchNorm1d-3                  [-1, 512]           1,024\n",
            "              ReLU-4                  [-1, 512]               0\n",
            "           Dropout-5                  [-1, 512]               0\n",
            "            Linear-6                  [-1, 256]         131,328\n",
            "       BatchNorm1d-7                  [-1, 256]             512\n",
            "              ReLU-8                  [-1, 256]               0\n",
            "            Linear-9                  [-1, 128]          32,896\n",
            "      BatchNorm1d-10                  [-1, 128]             256\n",
            "             ReLU-11                  [-1, 128]               0\n",
            "           Linear-12                   [-1, 10]           1,290\n",
            "================================================================\n",
            "Total params: 569,226\n",
            "Trainable params: 569,226\n",
            "Non-trainable params: 0\n",
            "----------------------------------------------------------------\n",
            "Input size (MB): 0.00\n",
            "Forward/backward pass size (MB): 0.03\n",
            "Params size (MB): 2.17\n",
            "Estimated Total Size (MB): 2.20\n",
            "----------------------------------------------------------------\n"
          ]
        }
      ],
      "source": [
        "torchsummary.summary(TinyNeuralNetwork().to(device), (28*28,))"
      ]
    },
    {
      "cell_type": "markdown",
      "metadata": {
        "id": "544PGKEnjPr5"
      },
      "source": [
        "Your experiments come here:"
      ]
    },
    {
      "cell_type": "code",
      "execution_count": null,
      "metadata": {
        "colab": {
          "base_uri": "https://localhost:8080/",
          "height": 1000
        },
        "id": "i3POFj90Ti-6",
        "outputId": "b30e0c75-c67a-44ec-a3d0-eb3d18a4f3e1"
      },
      "outputs": [
        {
          "output_type": "stream",
          "name": "stdout",
          "text": [
            "Epoch [1/10]\n",
            "Train Loss: 0.4818, Train Accuracy: 0.8314\n",
            "Test Loss: 0.3746, Test Accuracy: 0.8609\n",
            "Epoch [2/10]\n",
            "Train Loss: 0.3585, Train Accuracy: 0.8686\n",
            "Test Loss: 0.3491, Test Accuracy: 0.8697\n",
            "Epoch [3/10]\n",
            "Train Loss: 0.3253, Train Accuracy: 0.8796\n",
            "Test Loss: 0.3372, Test Accuracy: 0.8735\n",
            "Epoch [4/10]\n",
            "Train Loss: 0.3010, Train Accuracy: 0.8869\n",
            "Test Loss: 0.3363, Test Accuracy: 0.8757\n",
            "Epoch [5/10]\n",
            "Train Loss: 0.2845, Train Accuracy: 0.8942\n",
            "Test Loss: 0.3233, Test Accuracy: 0.8805\n",
            "Epoch [6/10]\n",
            "Train Loss: 0.2701, Train Accuracy: 0.8992\n",
            "Test Loss: 0.3144, Test Accuracy: 0.8823\n",
            "Epoch [7/10]\n",
            "Train Loss: 0.2601, Train Accuracy: 0.9016\n",
            "Test Loss: 0.3335, Test Accuracy: 0.8791\n",
            "Epoch [8/10]\n",
            "Train Loss: 0.2498, Train Accuracy: 0.9061\n",
            "Test Loss: 0.3009, Test Accuracy: 0.8901\n",
            "Epoch [9/10]\n",
            "Train Loss: 0.2396, Train Accuracy: 0.9100\n",
            "Test Loss: 0.3070, Test Accuracy: 0.8894\n",
            "Epoch [10/10]\n",
            "Train Loss: 0.2267, Train Accuracy: 0.9145\n",
            "Test Loss: 0.2983, Test Accuracy: 0.8948\n"
          ]
        },
        {
          "output_type": "display_data",
          "data": {
            "text/plain": [
              "<Figure size 1000x600 with 1 Axes>"
            ],
            "image/png": "[encoded data removed]"
          },
          "metadata": {}
        }
      ],
      "source": [
        "model = TinyNeuralNetwork().to(device)\n",
        "opt = optim.Adam(model.parameters(), lr=0.001) # YOUR CODE HERE\n",
        "loss_func = nn.CrossEntropyLoss()# YOUR CODE HERE\n",
        "train_loss_per_iteration = []\n",
        "\n",
        "# Your experiments, training and validation loops here\n",
        "num_epochs = 10\n",
        "for epoch in range(num_epochs):\n",
        "    model.train()\n",
        "    train_loss = 0\n",
        "    train_correct = 0\n",
        "    total_samples = 0\n",
        "\n",
        "    for X_batch, y_batch in train_loader:\n",
        "        X_batch, y_batch = X_batch.to(device), y_batch.to(device)\n",
        "\n",
        "        # Обнуление градиентов\n",
        "        opt.zero_grad()\n",
        "\n",
        "        # Прямой проход\n",
        "        outputs = model(X_batch)\n",
        "\n",
        "        # Вычисление функции потерь\n",
        "        loss = loss_func(outputs, y_batch)\n",
        "        train_loss += loss.item()\n",
        "        train_loss_per_iteration.append(loss.item())\n",
        "\n",
        "        # Обратный проход\n",
        "        loss.backward()\n",
        "        opt.step()\n",
        "\n",
        "        # Подсчет точности\n",
        "        _, preds = torch.max(outputs, 1)\n",
        "        train_correct += (preds == y_batch).sum().item()\n",
        "        total_samples += y_batch.size(0)\n",
        "\n",
        "    train_accuracy = train_correct / total_samples\n",
        "\n",
        "    # Валидация\n",
        "    model.eval()\n",
        "    val_loss = 0\n",
        "    val_correct = 0\n",
        "    total_val_samples = 0\n",
        "\n",
        "    with torch.no_grad():\n",
        "        for X_batch, y_batch in test_loader:\n",
        "            X_batch, y_batch = X_batch.to(device), y_batch.to(device)\n",
        "            outputs = model(X_batch)\n",
        "            loss = loss_func(outputs, y_batch)\n",
        "            val_loss += loss.item()\n",
        "\n",
        "            # Подсчет точности\n",
        "            _, preds = torch.max(outputs, 1)\n",
        "            val_correct += (preds == y_batch).sum().item()\n",
        "            total_val_samples += y_batch.size(0)\n",
        "\n",
        "    val_accuracy = val_correct / total_val_samples\n",
        "\n",
        "    # Вывод результатов на текущей эпохе\n",
        "    print(f\"Epoch [{epoch+1}/{num_epochs}]\")\n",
        "    print(f\"Train Loss: {train_loss/len(train_loader):.4f}, Train Accuracy: {train_accuracy:.4f}\")\n",
        "    print(f\"Test Loss: {val_loss/len(test_loader):.4f}, Test Accuracy: {val_accuracy:.4f}\")\n",
        "# график потерь\n",
        "plt.figure(figsize=(10, 6))\n",
        "plt.plot(train_loss_per_iteration, label='Loss', linewidth=1.5)\n",
        "plt.title('Loss per Iter', fontsize=16)\n",
        "plt.xlabel('Iter', fontsize=14)\n",
        "plt.ylabel('Loss', fontsize=14)\n",
        "plt.legend(fontsize=12)\n",
        "plt.grid(True)\n",
        "plt.show()"
      ]
    },
    {
      "cell_type": "markdown",
      "metadata": {
        "id": "L7ISqkjmCPB1"
      },
      "source": [
        "### Task 2: Overfit it.\n",
        "Build a network that will overfit to this dataset. Demonstrate the overfitting in the appropriate way (e.g. plot loss and accurasy on train and test set w.r.t. network complexity).\n",
        "\n",
        "*Note:* you also might decrease the size of `train` dataset to enforce the overfitting and speed up the computations."
      ]
    },
    {
      "cell_type": "code",
      "execution_count": null,
      "metadata": {
        "id": "H12uAWiGBwJx"
      },
      "outputs": [],
      "source": [
        "class OverfittingNeuralNetwork(nn.Module):\n",
        "    def __init__(self, input_shape=28*28, num_classes=10, input_channels=1):\n",
        "        super(self.__class__, self).__init__()\n",
        "        self.model = nn.Sequential(\n",
        "            nn.Flatten(), # This layer converts image into a vector to use Linear layers afterwards\n",
        "            # Your network structure comes here\n",
        "            nn.Linear(input_shape, 4096),  # Первый линейный слой с большим количеством нейронов\n",
        "            nn.ReLU(),  # убрали нормализацию\n",
        "            nn.Linear(4096, 2048),\n",
        "            nn.ReLU(),\n",
        "            nn.Linear(2048, 1024),\n",
        "            nn.ReLU(),\n",
        "            nn.Linear(1024, 512),\n",
        "            nn.ReLU(),\n",
        "            nn.Linear(512, num_classes)\n",
        "\n",
        "        )\n",
        "\n",
        "    def forward(self, inp):\n",
        "        out = self.model(inp)\n",
        "        return out"
      ]
    },
    {
      "cell_type": "code",
      "execution_count": null,
      "metadata": {
        "colab": {
          "base_uri": "https://localhost:8080/"
        },
        "id": "JgXAKCpvCwqH",
        "outputId": "2352bb34-2a38-4634-b40d-2c431c3ac21a"
      },
      "outputs": [
        {
          "output_type": "stream",
          "name": "stdout",
          "text": [
            "----------------------------------------------------------------\n",
            "        Layer (type)               Output Shape         Param #\n",
            "================================================================\n",
            "           Flatten-1                  [-1, 784]               0\n",
            "            Linear-2                 [-1, 4096]       3,215,360\n",
            "              ReLU-3                 [-1, 4096]               0\n",
            "            Linear-4                 [-1, 2048]       8,390,656\n",
            "              ReLU-5                 [-1, 2048]               0\n",
            "            Linear-6                 [-1, 1024]       2,098,176\n",
            "              ReLU-7                 [-1, 1024]               0\n",
            "            Linear-8                  [-1, 512]         524,800\n",
            "              ReLU-9                  [-1, 512]               0\n",
            "           Linear-10                   [-1, 10]           5,130\n",
            "================================================================\n",
            "Total params: 14,234,122\n",
            "Trainable params: 14,234,122\n",
            "Non-trainable params: 0\n",
            "----------------------------------------------------------------\n",
            "Input size (MB): 0.00\n",
            "Forward/backward pass size (MB): 0.12\n",
            "Params size (MB): 54.30\n",
            "Estimated Total Size (MB): 54.43\n",
            "----------------------------------------------------------------\n"
          ]
        }
      ],
      "source": [
        "torchsummary.summary(OverfittingNeuralNetwork().to(device), (28*28,))"
      ]
    },
    {
      "cell_type": "code",
      "execution_count": null,
      "metadata": {
        "colab": {
          "base_uri": "https://localhost:8080/",
          "height": 1000
        },
        "id": "u9NzLMhHCvr5",
        "outputId": "0bccebce-ac7c-4c6e-eb3f-7a1355a9d406"
      },
      "outputs": [
        {
          "output_type": "stream",
          "name": "stdout",
          "text": [
            "Epoch [1/30]\n",
            "Train Loss: 2.3014, Train Accuracy: 0.1200\n",
            "Test Loss: 2.2616, Test Accuracy: 0.1848\n",
            "Epoch [2/30]\n",
            "Train Loss: 2.1942, Train Accuracy: 0.2300\n",
            "Test Loss: 2.3303, Test Accuracy: 0.1866\n",
            "Epoch [3/30]\n",
            "Train Loss: 2.0355, Train Accuracy: 0.2300\n",
            "Test Loss: 2.1386, Test Accuracy: 0.1931\n",
            "Epoch [4/30]\n",
            "Train Loss: 2.0292, Train Accuracy: 0.2200\n",
            "Test Loss: 1.8090, Test Accuracy: 0.3567\n",
            "Epoch [5/30]\n",
            "Train Loss: 1.7371, Train Accuracy: 0.4100\n",
            "Test Loss: 1.5605, Test Accuracy: 0.4485\n",
            "Epoch [6/30]\n",
            "Train Loss: 1.4240, Train Accuracy: 0.5300\n",
            "Test Loss: 1.4447, Test Accuracy: 0.4151\n",
            "Epoch [7/30]\n",
            "Train Loss: 1.1725, Train Accuracy: 0.5300\n",
            "Test Loss: 1.3124, Test Accuracy: 0.4868\n",
            "Epoch [8/30]\n",
            "Train Loss: 0.9430, Train Accuracy: 0.6800\n",
            "Test Loss: 1.2280, Test Accuracy: 0.4985\n",
            "Epoch [9/30]\n",
            "Train Loss: 0.8967, Train Accuracy: 0.5600\n",
            "Test Loss: 1.5118, Test Accuracy: 0.4468\n",
            "Epoch [10/30]\n",
            "Train Loss: 0.9349, Train Accuracy: 0.5700\n",
            "Test Loss: 1.1978, Test Accuracy: 0.6066\n",
            "Epoch [11/30]\n",
            "Train Loss: 0.6667, Train Accuracy: 0.7600\n",
            "Test Loss: 1.0263, Test Accuracy: 0.6286\n",
            "Epoch [12/30]\n",
            "Train Loss: 0.6673, Train Accuracy: 0.7600\n",
            "Test Loss: 0.9839, Test Accuracy: 0.6472\n",
            "Epoch [13/30]\n",
            "Train Loss: 0.5161, Train Accuracy: 0.8200\n",
            "Test Loss: 0.9381, Test Accuracy: 0.6637\n",
            "Epoch [14/30]\n",
            "Train Loss: 0.4208, Train Accuracy: 0.8400\n",
            "Test Loss: 1.0785, Test Accuracy: 0.6449\n",
            "Epoch [15/30]\n",
            "Train Loss: 0.3959, Train Accuracy: 0.8400\n",
            "Test Loss: 1.1990, Test Accuracy: 0.6467\n",
            "Epoch [16/30]\n",
            "Train Loss: 0.3040, Train Accuracy: 0.9000\n",
            "Test Loss: 1.4126, Test Accuracy: 0.6134\n",
            "Epoch [17/30]\n",
            "Train Loss: 0.3025, Train Accuracy: 0.8700\n",
            "Test Loss: 1.4101, Test Accuracy: 0.6382\n",
            "Epoch [18/30]\n",
            "Train Loss: 0.2413, Train Accuracy: 0.9300\n",
            "Test Loss: 1.3633, Test Accuracy: 0.6539\n",
            "Epoch [19/30]\n",
            "Train Loss: 0.1858, Train Accuracy: 0.9400\n",
            "Test Loss: 1.4213, Test Accuracy: 0.6423\n",
            "Epoch [20/30]\n",
            "Train Loss: 0.1672, Train Accuracy: 0.9400\n",
            "Test Loss: 1.4400, Test Accuracy: 0.6542\n",
            "Epoch [21/30]\n",
            "Train Loss: 0.1439, Train Accuracy: 0.9500\n",
            "Test Loss: 1.4417, Test Accuracy: 0.6683\n",
            "Epoch [22/30]\n",
            "Train Loss: 0.1305, Train Accuracy: 0.9500\n",
            "Test Loss: 1.4713, Test Accuracy: 0.6832\n",
            "Epoch [23/30]\n",
            "Train Loss: 0.1090, Train Accuracy: 0.9600\n",
            "Test Loss: 1.4762, Test Accuracy: 0.6923\n",
            "Epoch [24/30]\n",
            "Train Loss: 0.0682, Train Accuracy: 0.9800\n",
            "Test Loss: 1.6214, Test Accuracy: 0.6733\n",
            "Epoch [25/30]\n",
            "Train Loss: 0.1025, Train Accuracy: 0.9600\n",
            "Test Loss: 1.7073, Test Accuracy: 0.6883\n",
            "Epoch [26/30]\n",
            "Train Loss: 0.0958, Train Accuracy: 0.9600\n",
            "Test Loss: 1.6943, Test Accuracy: 0.6970\n",
            "Epoch [27/30]\n",
            "Train Loss: 0.0478, Train Accuracy: 0.9900\n",
            "Test Loss: 1.7275, Test Accuracy: 0.6806\n",
            "Epoch [28/30]\n",
            "Train Loss: 0.0306, Train Accuracy: 0.9900\n",
            "Test Loss: 1.9607, Test Accuracy: 0.6506\n",
            "Epoch [29/30]\n",
            "Train Loss: 0.0516, Train Accuracy: 0.9800\n",
            "Test Loss: 1.9048, Test Accuracy: 0.6826\n",
            "Epoch [30/30]\n",
            "Train Loss: 0.0148, Train Accuracy: 1.0000\n",
            "Test Loss: 2.1057, Test Accuracy: 0.6759\n"
          ]
        },
        {
          "output_type": "display_data",
          "data": {
            "text/plain": [
              "<Figure size 1000x600 with 1 Axes>"
            ],
            "image/png": "[encoded data removed]"
          },
          "metadata": {}
        }
      ],
      "source": [
        "from torch.utils.data import Subset\n",
        "# Уменьшение трейна\n",
        "small_train_dataset = Subset(fmnist_dataset_train, range(100))  # Используем только 100\n",
        "train_loader = torch.utils.data.DataLoader(small_train_dataset,\n",
        "                                           batch_size=128,\n",
        "                                           shuffle=True,\n",
        "                                           num_workers=2)\n",
        "model = OverfittingNeuralNetwork().to(device)\n",
        "opt = optim.Adam(model.parameters(), lr=0.001)# YOUR CODE HERE\n",
        "loss_func = nn.CrossEntropyLoss()# YOUR CODE HERE\n",
        "train_loss_per_iteration = []\n",
        "num_epochs = 30 #увеличим число эпох\n",
        "for epoch in range(num_epochs):\n",
        "    model.train()\n",
        "    train_loss = 0\n",
        "    train_correct = 0\n",
        "    total_samples = 0\n",
        "\n",
        "    for X_batch, y_batch in train_loader:\n",
        "        X_batch, y_batch = X_batch.to(device), y_batch.to(device)\n",
        "\n",
        "        # Обнуление градиентов\n",
        "        opt.zero_grad()\n",
        "\n",
        "        # Прямой проход\n",
        "        outputs = model(X_batch)\n",
        "\n",
        "        # Вычисление функции потерь\n",
        "        loss = loss_func(outputs, y_batch)\n",
        "        train_loss += loss.item()\n",
        "        train_loss_per_iteration.append(loss.item())\n",
        "\n",
        "        # Обратный проход\n",
        "        loss.backward()\n",
        "        opt.step()\n",
        "\n",
        "        # Подсчет точности\n",
        "        _, preds = torch.max(outputs, 1)\n",
        "        train_correct += (preds == y_batch).sum().item()\n",
        "        total_samples += y_batch.size(0)\n",
        "\n",
        "    train_accuracy = train_correct / total_samples\n",
        "\n",
        "    # Валидация\n",
        "    model.eval()\n",
        "    val_loss = 0\n",
        "    val_correct = 0\n",
        "    total_val_samples = 0\n",
        "\n",
        "    with torch.no_grad():\n",
        "        for X_batch, y_batch in test_loader:\n",
        "            X_batch, y_batch = X_batch.to(device), y_batch.to(device)\n",
        "            outputs = model(X_batch)\n",
        "            loss = loss_func(outputs, y_batch)\n",
        "            val_loss += loss.item()\n",
        "\n",
        "            # Подсчет точности\n",
        "            _, preds = torch.max(outputs, 1)\n",
        "            val_correct += (preds == y_batch).sum().item()\n",
        "            total_val_samples += y_batch.size(0)\n",
        "\n",
        "    val_accuracy = val_correct / total_val_samples\n",
        "\n",
        "    # Вывод результатов на текущей эпохе\n",
        "    print(f\"Epoch [{epoch+1}/{num_epochs}]\")\n",
        "    print(f\"Train Loss: {train_loss/len(train_loader):.4f}, Train Accuracy: {train_accuracy:.4f}\")\n",
        "    print(f\"Test Loss: {val_loss/len(test_loader):.4f}, Test Accuracy: {val_accuracy:.4f}\")\n",
        "\n",
        "# График потерь\n",
        "plt.figure(figsize=(10, 6))\n",
        "plt.plot(train_loss_per_iteration, label='Train Loss (Per Iteration)', linewidth=1.5)\n",
        "plt.title('Loss per Iteration', fontsize=16)\n",
        "plt.xlabel('Iteration', fontsize=14)\n",
        "plt.ylabel('Loss', fontsize=14)\n",
        "plt.legend(fontsize=12)\n",
        "plt.grid(True)\n",
        "plt.show()"
      ]
    },
    {
      "cell_type": "markdown",
      "source": [
        "получили переобученную модель, поскольку потери на трейне практически нулевые, а точность почти 100%. Тестовые же потери увеличиваются, а точность стабилизировалась на 70%."
      ],
      "metadata": {
        "id": "jAIY3MtKWXWT"
      }
    },
    {
      "cell_type": "markdown",
      "metadata": {
        "id": "uGrpDKZ4Cvr5"
      },
      "source": [
        "### Task 3: Fix it.\n",
        "Fix the overfitted network from the previous step (at least partially) by using regularization techniques (Dropout/Batchnorm/...) and demonstrate the results."
      ]
    },
    {
      "cell_type": "code",
      "execution_count": null,
      "metadata": {
        "id": "a-w2MzmmCvr5"
      },
      "outputs": [],
      "source": [
        "class FixedNeuralNetwork(nn.Module):\n",
        "    def __init__(self, input_shape=28*28, num_classes=10, input_channels=1):\n",
        "        super(self.__class__, self).__init__()\n",
        "        self.model = nn.Sequential(\n",
        "            nn.Flatten(), # This layer converts image into a vector to use Linear layers afterwards\n",
        "            # Your network structure comes here\n",
        "            nn.Linear(input_shape, 4096),  # Первый линейный слой\n",
        "            nn.BatchNorm1d(4096),  # BatchNorm для нормализации\n",
        "            nn.ReLU(),\n",
        "            nn.Dropout(0.6),  # Dropout для регуляризации\n",
        "            nn.Linear(4096, 2048),\n",
        "            nn.BatchNorm1d(2048),\n",
        "            nn.ReLU(),\n",
        "            nn.Dropout(0.6),\n",
        "            nn.Linear(2048, 1024),\n",
        "            nn.BatchNorm1d(1024),\n",
        "            nn.ReLU(),\n",
        "            nn.Dropout(0.6),\n",
        "            nn.Linear(1024, 512),\n",
        "            nn.BatchNorm1d(512),\n",
        "            nn.ReLU(),\n",
        "            nn.Dropout(0.6),\n",
        "            nn.Linear(512, num_classes)\n",
        "\n",
        "        )\n",
        "\n",
        "    def forward(self, inp):\n",
        "        out = self.model(inp)\n",
        "        return out"
      ]
    },
    {
      "cell_type": "code",
      "execution_count": null,
      "metadata": {
        "id": "76PPc5RVCvr5",
        "colab": {
          "base_uri": "https://localhost:8080/"
        },
        "outputId": "7211bcad-7ccd-4593-9467-af4f1dd6e582"
      },
      "outputs": [
        {
          "output_type": "stream",
          "name": "stdout",
          "text": [
            "----------------------------------------------------------------\n",
            "        Layer (type)               Output Shape         Param #\n",
            "================================================================\n",
            "           Flatten-1                  [-1, 784]               0\n",
            "            Linear-2                 [-1, 4096]       3,215,360\n",
            "       BatchNorm1d-3                 [-1, 4096]           8,192\n",
            "              ReLU-4                 [-1, 4096]               0\n",
            "           Dropout-5                 [-1, 4096]               0\n",
            "            Linear-6                 [-1, 2048]       8,390,656\n",
            "       BatchNorm1d-7                 [-1, 2048]           4,096\n",
            "              ReLU-8                 [-1, 2048]               0\n",
            "           Dropout-9                 [-1, 2048]               0\n",
            "           Linear-10                 [-1, 1024]       2,098,176\n",
            "      BatchNorm1d-11                 [-1, 1024]           2,048\n",
            "             ReLU-12                 [-1, 1024]               0\n",
            "          Dropout-13                 [-1, 1024]               0\n",
            "           Linear-14                  [-1, 512]         524,800\n",
            "      BatchNorm1d-15                  [-1, 512]           1,024\n",
            "             ReLU-16                  [-1, 512]               0\n",
            "          Dropout-17                  [-1, 512]               0\n",
            "           Linear-18                   [-1, 10]           5,130\n",
            "================================================================\n",
            "Total params: 14,249,482\n",
            "Trainable params: 14,249,482\n",
            "Non-trainable params: 0\n",
            "----------------------------------------------------------------\n",
            "Input size (MB): 0.00\n",
            "Forward/backward pass size (MB): 0.24\n",
            "Params size (MB): 54.36\n",
            "Estimated Total Size (MB): 54.60\n",
            "----------------------------------------------------------------\n"
          ]
        }
      ],
      "source": [
        "torchsummary.summary(FixedNeuralNetwork().to(device), (28*28,))"
      ]
    },
    {
      "cell_type": "code",
      "execution_count": null,
      "metadata": {
        "colab": {
          "base_uri": "https://localhost:8080/",
          "height": 1000
        },
        "id": "CD2BUnuCCvr6",
        "outputId": "44a08c76-5dc3-43d0-bca8-733c7758b0b1"
      },
      "outputs": [
        {
          "output_type": "stream",
          "name": "stdout",
          "text": [
            "Epoch [1/30]\n",
            "Train Loss: 2.5081, Train Accuracy: 0.1400\n",
            "Test Loss: 2.2933, Test Accuracy: 0.1964\n",
            "Epoch [2/30]\n",
            "Train Loss: 2.2267, Train Accuracy: 0.1900\n",
            "Test Loss: 2.2717, Test Accuracy: 0.4130\n",
            "Epoch [3/30]\n",
            "Train Loss: 1.9913, Train Accuracy: 0.3000\n",
            "Test Loss: 2.2273, Test Accuracy: 0.4607\n",
            "Epoch [4/30]\n",
            "Train Loss: 1.7056, Train Accuracy: 0.4900\n",
            "Test Loss: 2.1582, Test Accuracy: 0.4473\n",
            "Epoch [5/30]\n",
            "Train Loss: 1.4258, Train Accuracy: 0.5300\n",
            "Test Loss: 2.0644, Test Accuracy: 0.4588\n",
            "Epoch [6/30]\n",
            "Train Loss: 1.2719, Train Accuracy: 0.6400\n",
            "Test Loss: 1.9512, Test Accuracy: 0.4670\n",
            "Epoch [7/30]\n",
            "Train Loss: 1.2664, Train Accuracy: 0.6000\n",
            "Test Loss: 1.8323, Test Accuracy: 0.4810\n",
            "Epoch [8/30]\n",
            "Train Loss: 1.1539, Train Accuracy: 0.6000\n",
            "Test Loss: 1.7109, Test Accuracy: 0.4945\n",
            "Epoch [9/30]\n",
            "Train Loss: 0.9912, Train Accuracy: 0.6900\n",
            "Test Loss: 1.5984, Test Accuracy: 0.5086\n",
            "Epoch [10/30]\n",
            "Train Loss: 0.8651, Train Accuracy: 0.7200\n",
            "Test Loss: 1.4988, Test Accuracy: 0.5182\n",
            "Epoch [11/30]\n",
            "Train Loss: 0.7931, Train Accuracy: 0.7700\n",
            "Test Loss: 1.4093, Test Accuracy: 0.5330\n",
            "Epoch [12/30]\n",
            "Train Loss: 0.8016, Train Accuracy: 0.7200\n",
            "Test Loss: 1.3301, Test Accuracy: 0.5495\n",
            "Epoch [13/30]\n",
            "Train Loss: 0.7274, Train Accuracy: 0.7500\n",
            "Test Loss: 1.2624, Test Accuracy: 0.5659\n",
            "Epoch [14/30]\n",
            "Train Loss: 0.6989, Train Accuracy: 0.7800\n",
            "Test Loss: 1.2044, Test Accuracy: 0.5793\n",
            "Epoch [15/30]\n",
            "Train Loss: 0.6313, Train Accuracy: 0.7800\n",
            "Test Loss: 1.1556, Test Accuracy: 0.5878\n",
            "Epoch [16/30]\n",
            "Train Loss: 0.5986, Train Accuracy: 0.8200\n",
            "Test Loss: 1.1127, Test Accuracy: 0.5992\n",
            "Epoch [17/30]\n",
            "Train Loss: 0.5294, Train Accuracy: 0.8500\n",
            "Test Loss: 1.0767, Test Accuracy: 0.6085\n",
            "Epoch [18/30]\n",
            "Train Loss: 0.5173, Train Accuracy: 0.8700\n",
            "Test Loss: 1.0470, Test Accuracy: 0.6210\n",
            "Epoch [19/30]\n",
            "Train Loss: 0.4696, Train Accuracy: 0.9200\n",
            "Test Loss: 1.0215, Test Accuracy: 0.6335\n",
            "Epoch [20/30]\n",
            "Train Loss: 0.4675, Train Accuracy: 0.8600\n",
            "Test Loss: 0.9993, Test Accuracy: 0.6437\n",
            "Epoch [21/30]\n",
            "Train Loss: 0.4437, Train Accuracy: 0.8200\n",
            "Test Loss: 0.9791, Test Accuracy: 0.6559\n",
            "Epoch [22/30]\n",
            "Train Loss: 0.4143, Train Accuracy: 0.8900\n",
            "Test Loss: 0.9613, Test Accuracy: 0.6625\n",
            "Epoch [23/30]\n",
            "Train Loss: 0.3444, Train Accuracy: 0.9100\n",
            "Test Loss: 0.9475, Test Accuracy: 0.6693\n",
            "Epoch [24/30]\n",
            "Train Loss: 0.2915, Train Accuracy: 0.9400\n",
            "Test Loss: 0.9351, Test Accuracy: 0.6704\n",
            "Epoch [25/30]\n",
            "Train Loss: 0.2806, Train Accuracy: 0.9200\n",
            "Test Loss: 0.9241, Test Accuracy: 0.6729\n",
            "Epoch [26/30]\n",
            "Train Loss: 0.2364, Train Accuracy: 0.9600\n",
            "Test Loss: 0.9151, Test Accuracy: 0.6775\n",
            "Epoch [27/30]\n",
            "Train Loss: 0.2495, Train Accuracy: 0.9400\n",
            "Test Loss: 0.9081, Test Accuracy: 0.6795\n",
            "Epoch [28/30]\n",
            "Train Loss: 0.1958, Train Accuracy: 0.9500\n",
            "Test Loss: 0.9027, Test Accuracy: 0.6818\n",
            "Epoch [29/30]\n",
            "Train Loss: 0.1736, Train Accuracy: 0.9900\n",
            "Test Loss: 0.8976, Test Accuracy: 0.6842\n",
            "Epoch [30/30]\n",
            "Train Loss: 0.1852, Train Accuracy: 0.9700\n",
            "Test Loss: 0.8868, Test Accuracy: 0.6903\n"
          ]
        },
        {
          "output_type": "display_data",
          "data": {
            "text/plain": [
              "<Figure size 1000x600 with 1 Axes>"
            ],
            "image/png": "[encoded data removed]"
          },
          "metadata": {}
        }
      ],
      "source": [
        "model = FixedNeuralNetwork().to(device)\n",
        "opt = optim.Adam(model.parameters(), lr=0.001, weight_decay=1e-4) # YOUR CODE HERE добавили L2 регуляризацию\n",
        "loss_func = nn.CrossEntropyLoss()# YOUR CODE HERE\n",
        "train_loss_per_iteration = []\n",
        "\n",
        "# Your experiments, training and validation loops here\n",
        "num_epochs = 30 #уменьшаем взад число эпох\n",
        "for epoch in range(num_epochs):\n",
        "    model.train()\n",
        "    train_loss = 0\n",
        "    train_correct = 0\n",
        "    total_samples = 0\n",
        "\n",
        "    for X_batch, y_batch in train_loader:\n",
        "        X_batch, y_batch = X_batch.to(device), y_batch.to(device)\n",
        "\n",
        "        # Обнуление градиентов\n",
        "        opt.zero_grad()\n",
        "\n",
        "        # Прямой проход\n",
        "        outputs = model(X_batch)\n",
        "\n",
        "        # Вычисление функции потерь\n",
        "        loss = loss_func(outputs, y_batch)\n",
        "        train_loss += loss.item()\n",
        "        train_loss_per_iteration.append(loss.item())\n",
        "\n",
        "        # Обратный проход\n",
        "        loss.backward()\n",
        "        opt.step()\n",
        "\n",
        "        # Подсчет точности\n",
        "        _, preds = torch.max(outputs, 1)\n",
        "        train_correct += (preds == y_batch).sum().item()\n",
        "        total_samples += y_batch.size(0)\n",
        "\n",
        "    train_accuracy = train_correct / total_samples\n",
        "\n",
        "    # Валидация\n",
        "    model.eval()\n",
        "    val_loss = 0\n",
        "    val_correct = 0\n",
        "    total_val_samples = 0\n",
        "\n",
        "    with torch.no_grad():\n",
        "        for X_batch, y_batch in test_loader:\n",
        "            X_batch, y_batch = X_batch.to(device), y_batch.to(device)\n",
        "            outputs = model(X_batch)\n",
        "            loss = loss_func(outputs, y_batch)\n",
        "            val_loss += loss.item()\n",
        "\n",
        "            # Подсчет точности\n",
        "            _, preds = torch.max(outputs, 1)\n",
        "            val_correct += (preds == y_batch).sum().item()\n",
        "            total_val_samples += y_batch.size(0)\n",
        "\n",
        "    val_accuracy = val_correct / total_val_samples\n",
        "\n",
        "    # Вывод результатов на текущей эпохе\n",
        "    print(f\"Epoch [{epoch+1}/{num_epochs}]\")\n",
        "    print(f\"Train Loss: {train_loss/len(train_loader):.4f}, Train Accuracy: {train_accuracy:.4f}\")\n",
        "    print(f\"Test Loss: {val_loss/len(test_loader):.4f}, Test Accuracy: {val_accuracy:.4f}\")\n",
        "# график потерь\n",
        "plt.figure(figsize=(10, 6))\n",
        "plt.plot(train_loss_per_iteration, label='Loss', linewidth=1.5)\n",
        "plt.title('Loss per Iter', fontsize=16)\n",
        "plt.xlabel('Iter', fontsize=14)\n",
        "plt.ylabel('Loss', fontsize=14)\n",
        "plt.legend(fontsize=12)\n",
        "plt.grid(True)\n",
        "plt.show()"
      ]
    },
    {
      "cell_type": "markdown",
      "metadata": {
        "id": "dMui_uLJ7G0d"
      },
      "source": [
        "### Conclusions:\n",
        "_Write down small report with your conclusions and your ideas._\n",
        "Итак мы сделали переобучемую модель увеличив ее сложность путем увеличения числа слоев и нейронов в слоях. Исключили любую регуляризацию. для обучения стали использовать очень маленькую выборку.\n",
        "\n",
        "Для лечения использовали регуляризацию в виде батчнормализации и дропаута. Сначала это не помогало -  начиная с 25 эпохи приводило к переобучению (также пробовал менял величину вероятности выключения нейронов и положения батч нормализации и дропаута), думал, что можно было бы еще сделать. В итоге добавил L2 регуляризацию с коэффициентом 0,0001, это позволило алгоритму сдерживать значение весов и, таким образом, это помогло победить переобучение модели.\n",
        "\n",
        "ПС логичным было бы уменьшить число эпох и увеличить трейн датасет, этого не делал принципиально, для чистоты сравнения."
      ]
    }
  ],
  "metadata": {
    "colab": {
      "provenance": []
    },
    "kernelspec": {
      "display_name": "Python 3",
      "name": "python3"
    },
    "language_info": {
      "codemirror_mode": {
        "name": "ipython",
        "version": 3
      },
      "file_extension": ".py",
      "mimetype": "text/x-python",
      "name": "python",
      "nbconvert_exporter": "python",
      "pygments_lexer": "ipython3",
      "version": "3.7.7"
    }
  },
  "nbformat": 4,
  "nbformat_minor": 0
}