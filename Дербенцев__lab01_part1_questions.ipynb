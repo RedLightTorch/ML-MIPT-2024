{
  "cells": [
    {
      "cell_type": "markdown",
      "metadata": {
        "id": "LKdBD2i62sDv"
      },
      "source": [
        "*Credits: materials from this notebook belong to YSDA [Practical DL](https://github.com/yandexdataschool/Practical_DL) course. Special thanks for making them available online.*"
      ]
    },
    {
      "cell_type": "markdown",
      "metadata": {
        "id": "u6DuntRW2sDx"
      },
      "source": [
        "# Lab assignment №1, part 1\n",
        "\n",
        "This lab assignment consists of several parts. You are supposed to make some transformations, train some models, estimate the quality of the models and explain your results.\n",
        "\n",
        "Several comments:\n",
        "* Don't hesitate to ask questions, it's a good practice.\n",
        "* No private/public sharing, please. The copied assignments will be graded with 0 points.\n",
        "* Blocks of this lab will be graded separately."
      ]
    },
    {
      "cell_type": "markdown",
      "metadata": {
        "id": "XOWO6U9b2sDx"
      },
      "source": [
        "## 1. Matrix differentiation"
      ]
    },
    {
      "cell_type": "markdown",
      "metadata": {
        "id": "UvCd8YAQ2sDx"
      },
      "source": [
        "Since it easy to google every task please please please try to undestand what's going on. The \"just answer\" thing will be not counted, make sure to present derivation of your solution. It is absolutely OK if you found an answer on web then just exercise in $\\LaTeX$ copying it into here."
      ]
    },
    {
      "cell_type": "markdown",
      "metadata": {
        "id": "qo5e-Oo42sDx"
      },
      "source": [
        "Useful links:\n",
        "[1](http://www.machinelearning.ru/wiki/images/2/2a/Matrix-Gauss.pdf)\n",
        "[2](http://www.atmos.washington.edu/~dennis/MatrixCalculus.pdf)"
      ]
    },
    {
      "cell_type": "markdown",
      "metadata": {
        "id": "hJb1mUH12sDy"
      },
      "source": [
        "## ex. 1"
      ]
    },
    {
      "cell_type": "markdown",
      "metadata": {
        "id": "nRJ7DpSV2sDy"
      },
      "source": [
        "$$  \n",
        "y = x^Tx,  \\quad x \\in \\mathbb{R}^N\n",
        "$$"
      ]
    },
    {
      "cell_type": "markdown",
      "metadata": {
        "id": "KnsTCZjz2sDy"
      },
      "source": [
        "$$\n",
        "\\frac{dy}{dx} = \\left( \\frac{\\partial (x_1^2 + x_2^2 + ... + x_N^2)}{\\partial x_1} , \\frac{\\partial (x_1^2 + x_2^2 + ... + x_N^2)}{\\partial x_2} , ... ,  \\frac{\\partial (x_1^2 + x_2^2 + ... + x_N^2)}{\\partial x_N} \\right) = \\left( 2x_1 , 2x_2, ..., 2x_N \\right) = 2x\n",
        "$$"
      ]
    },
    {
      "cell_type": "code",
      "execution_count": null,
      "metadata": {
        "collapsed": true,
        "jupyter": {
          "outputs_hidden": true
        },
        "id": "i7WJC4332sDy"
      },
      "outputs": [],
      "source": []
    },
    {
      "cell_type": "markdown",
      "metadata": {
        "id": "fS8zCt5f2sDy"
      },
      "source": [
        "## ex. 2"
      ]
    },
    {
      "cell_type": "markdown",
      "metadata": {
        "id": "7TOVTWXO2sDy"
      },
      "source": [
        "$$ y = tr(AB) \\quad A,B \\in \\mathbb{R}^{N \\times N} $$"
      ]
    },
    {
      "cell_type": "markdown",
      "metadata": {
        "id": "6NzZujhR2sDy"
      },
      "source": [
        "$$\n",
        "y = tr(AB)=a_{1 \\cdot} \\cdot b_{\\cdot 1} + a_{2 \\cdot} \\cdot b_{\\cdot 2} + ... + a_{N \\cdot} \\cdot b_{\\cdot N}\n",
        "$$\n",
        "$$\n",
        "\\frac{\\partial y}{\\partial a_{ij}} = b_{ji}\n",
        "$$\n",
        "$$\n",
        "\\frac{dy}{dA} = B^T\n",
        "$$"
      ]
    },
    {
      "cell_type": "code",
      "execution_count": null,
      "metadata": {
        "collapsed": true,
        "jupyter": {
          "outputs_hidden": true
        },
        "id": "dmz7Mbjl2sDz"
      },
      "outputs": [],
      "source": []
    },
    {
      "cell_type": "markdown",
      "metadata": {
        "id": "6ikTBm8z2sDz"
      },
      "source": [
        "## ex. 3"
      ]
    },
    {
      "cell_type": "markdown",
      "metadata": {
        "id": "fDxEWysR2sDz"
      },
      "source": [
        "$$  \n",
        "y = x^TAc , \\quad A\\in \\mathbb{R}^{N \\times N}, x\\in \\mathbb{R}^{N}, c\\in \\mathbb{R}^{N}\n",
        "$$"
      ]
    },
    {
      "cell_type": "markdown",
      "source": [
        "$x^TAc = (x_1 \\cdot a_{1 \\cdot} \\cdot c + x_2 \\cdot a_{2 \\cdot} \\cdot c + ... + x_N \\cdot  a_{N \\cdot} \\cdot c)  $"
      ],
      "metadata": {
        "id": "L3tknWwi9qDc"
      }
    },
    {
      "cell_type": "markdown",
      "metadata": {
        "id": "cUw-70et2sDz"
      },
      "source": [
        "$$\n",
        "\\frac{dy}{dx} =(a_{1 \\cdot} \\cdot c , a_{2 \\cdot} \\cdot c , ... ,   a_{N \\cdot} \\cdot c) = Ac\n",
        "$$"
      ]
    },
    {
      "cell_type": "markdown",
      "metadata": {
        "id": "V0lgHTyB2sDz"
      },
      "source": [
        "$$\n",
        "\\frac{\\partial y}{\\partial a_{ij}} = x_i \\cdot c_j\n",
        "$$\n",
        "$$\n",
        "\\frac{dy}{dA} = xc^T\n",
        "$$"
      ]
    },
    {
      "cell_type": "markdown",
      "metadata": {
        "id": "eTv7EzmH2sDz"
      },
      "source": [
        "Hint for the latter (one of the ways): use *ex. 2* result and the fact\n",
        "$$\n",
        "tr(ABC) = tr (CAB)\n",
        "$$"
      ]
    },
    {
      "cell_type": "code",
      "execution_count": null,
      "metadata": {
        "collapsed": true,
        "jupyter": {
          "outputs_hidden": true
        },
        "id": "omDqky6k2sDz"
      },
      "outputs": [],
      "source": []
    },
    {
      "cell_type": "markdown",
      "metadata": {
        "id": "yd-7nJVE2sDz"
      },
      "source": [
        "## ex. 4"
      ]
    },
    {
      "cell_type": "markdown",
      "metadata": {
        "id": "DjKPt5US2sDz"
      },
      "source": [
        "Classic matrix factorization example. Given matrix $X$ you need to find $A$, $S$ to approximate $X$. This can be done by simple gradient descent iteratively alternating $A$ and $S$ updates.\n",
        "$$\n",
        "J = || X - AS ||_F^2  , \\quad A\\in \\mathbb{R}^{N \\times R} , \\quad S\\in \\mathbb{R}^{R \\times M}\n",
        "$$\n",
        "$$\n",
        "\\frac{dJ}{dS} = ?\n",
        "$$\n",
        "\n",
        "You may use one of the following approaches:"
      ]
    },
    {
      "cell_type": "markdown",
      "source": [
        "$$\n",
        "J = || X - AS ||_F^2=tr((X-AS)(X-AS)^T)=tr(X \\cdot X^T - 2 AS \\cdot X^T + AS \\cdot (AS)^T )=tr(X^T \\cdot X)-2tr(S^TA^TX)+tr(S^TA^TAS)\n",
        "$$\n",
        "$$\n",
        "\\frac{dJ}{dS} = -2 XS^T + 2A^TAS = 2A^T(AS-X)\n",
        "$$"
      ],
      "metadata": {
        "id": "seCsqhsGG_Zn"
      }
    },
    {
      "cell_type": "markdown",
      "metadata": {
        "id": "G6e37VY72sDz"
      },
      "source": [
        "#### First approach\n",
        "Using ex.2 and the fact:\n",
        "$$\n",
        "|| X ||_F^2 = tr(XX^T)\n",
        "$$\n",
        "it is easy to derive gradients (you can find it in one of the refs)."
      ]
    },
    {
      "cell_type": "markdown",
      "metadata": {
        "id": "1negLQrO2sDz"
      },
      "source": [
        "#### Second approach\n",
        "You can use *slightly different techniques* if they suits you. Take a look at this derivation:\n",
        "<img src=\"https://github.com/girafe-ai/ml-course/blob/23f_basic/homeworks/lab01_ml_pipeline/grad.png?raw=1\">\n",
        "(excerpt from [Handbook of blind source separation, Jutten, page 517](https://books.google.ru/books?id=PTbj03bYH6kC&printsec=frontcover&dq=Handbook+of+Blind+Source+Separation&hl=en&sa=X&ved=0ahUKEwi-q_apiJDLAhULvXIKHVXJDWcQ6AEIHDAA#v=onepage&q=Handbook%20of%20Blind%20Source%20Separation&f=false), open for better picture)."
      ]
    },
    {
      "cell_type": "markdown",
      "metadata": {
        "id": "2cJl00er2sDz"
      },
      "source": [
        "#### Third approach\n",
        "And finally we can use chain rule!\n",
        "let $ F = AS $\n",
        "\n",
        "**Find**\n",
        "$$\n",
        "\\frac{dJ}{dF} = -2X + 2F \\quad (N \\times M)\n",
        "$$\n",
        "and\n",
        "$$\n",
        "\\frac{dF}{dS} = A (N \\times R)\n",
        "$$\n",
        "(the shape should be $ NM \\times RM )$.\n",
        "\n",
        "Now it is easy do get desired gradients:\n",
        "$$\n",
        "\\frac{dJ}{dS} =  \\frac{dJ}{dF} \\frac{dF}{dS} = 2A^T(AS-X)\n",
        "$$"
      ]
    },
    {
      "cell_type": "markdown",
      "metadata": {
        "collapsed": true,
        "jupyter": {
          "outputs_hidden": true
        },
        "id": "hM1kWjUQ2sDz"
      },
      "source": [
        "## 2. kNN questions\n",
        "Here come the questions from the assignment0_01. Please, refer to the assignment0_01 to get the context of the questions."
      ]
    },
    {
      "cell_type": "markdown",
      "metadata": {
        "id": "QKqTRGIb2sDz"
      },
      "source": [
        "### Question 1\n",
        "\n",
        "Notice the structured patterns in the distance matrix, where some rows or columns are visible brighter. (Note that with the default color scheme black indicates low distances while white indicates high distances.)\n",
        "\n",
        "- What in the data is the cause behind the distinctly bright rows?\n",
        "- What causes the columns?\n",
        "\n",
        "*Your Answer:*\n",
        "*Яркие строки означают, что некоторые тестовые примеры не имеют близких аналогов в обучающем наборе данных, и поэтому их расстояния до всех обучающих примеров относительно велики. Такие тестовые примеры уникальны относительно обучающей выборки. Что касается столбцов, то некоторые обучающие примеры находятся на значительном расстоянии от большинства тестовых примеров. Например, если в обучающем наборе есть числа, которые  являются нетипичными или представляют крайние значения для своего класса.\n",
        "Также возможно, что некоторые обучающие примеры представляют очень общие или типичные объекты, и тестовые примеры из разных классов имеют к ним близкие расстояния. В таком случае столбцы, представляющие такие обучающие примеры, будут выделяться в матрице. В целом, увеличение числа светлых строк или столбцов будет говорить о \"пригодности\" теста для оценки алгоритма. То есть, если видим большое число светлых полос - тест и трейн плохо метчатся. Кроме того, полосы могут указывать на некоторые кластеры данных. В идеале если раскраска матрицы однородная по строкам и по столбцам.*\n",
        "\n",
        "\n"
      ]
    },
    {
      "cell_type": "markdown",
      "metadata": {
        "id": "NVo8T3d12sDz"
      },
      "source": [
        "### Question 2\n",
        "\n",
        "We can also use other distance metrics such as L1 distance.\n",
        "For pixel values $p_{ij}^{(k)}$ at location $(i,j)$ of some image $I_k$,\n",
        "\n",
        "the mean $\\mu$ across all pixels over all images is $$\\mu=\\frac{1}{nhw}\\sum_{k=1}^n\\sum_{i=1}^{h}\\sum_{j=1}^{w}p_{ij}^{(k)}$$\n",
        "And the pixel-wise mean $\\mu_{ij}$ across all images is\n",
        "$$\\mu_{ij}=\\frac{1}{n}\\sum_{k=1}^np_{ij}^{(k)}.$$\n",
        "The general standard deviation $\\sigma$ and pixel-wise standard deviation $\\sigma_{ij}$ is defined similarly.\n",
        "\n",
        "Which of the following preprocessing steps will not change the performance of a Nearest Neighbor classifier that uses L1 distance? Select all that apply.\n",
        "1. Subtracting the mean $\\mu$ ($\\tilde{p}_{ij}^{(k)}=p_{ij}^{(k)}-\\mu$.)\n",
        "2. Subtracting the per pixel mean $\\mu_{ij}$  ($\\tilde{p}_{ij}^{(k)}=p_{ij}^{(k)}-\\mu_{ij}$.)\n",
        "3. Subtracting the mean $\\mu$ and dividing by the standard deviation $\\sigma$.\n",
        "4. Subtracting the pixel-wise mean $\\mu_{ij}$ and dividing by the pixel-wise standard deviation $\\sigma_{ij}$.\n",
        "5. Rotating the coordinate axes of the data.\n",
        "\n",
        "**Inline Question 2**\n",
        "\n",
        "We can also use other distance metrics such as L1 distance.\n",
        "For pixel values $p_{ij}^{(k)}$ at location $(i,j)$ of some image $I_k$,\n",
        "\n",
        "the mean $\\mu$ across all pixels over all images is $$\\mu=\\frac{1}{nhw}\\sum_{k=1}^n\\sum_{i=1}^{h}\\sum_{j=1}^{w}p_{ij}^{(k)}$$\n",
        "And the pixel-wise mean $\\mu_{ij}$ across all images is\n",
        "$$\\mu_{ij}=\\frac{1}{n}\\sum_{k=1}^np_{ij}^{(k)}.$$\n",
        "The general standard deviation $\\sigma$ and pixel-wise standard deviation $\\sigma_{ij}$ is defined similarly.\n",
        "\n",
        "Which of the following preprocessing steps will not change the performance of a Nearest Neighbor classifier that uses L1 distance? Select all that apply.\n",
        "1. Subtracting the mean $\\mu$ ($\\tilde{p}_{ij}^{(k)}=p_{ij}^{(k)}-\\mu$.)\n",
        "2. Subtracting the per pixel mean $\\mu_{ij}$  ($\\tilde{p}_{ij}^{(k)}=p_{ij}^{(k)}-\\mu_{ij}$.)\n",
        "3. Subtracting the mean $\\mu$ and dividing by the standard deviation $\\sigma$.\n",
        "4. Subtracting the pixel-wise mean $\\mu_{ij}$ and dividing by the pixel-wise standard deviation $\\sigma_{ij}$.\n",
        "5. Rotating the coordinate axes of the data.\n",
        "\n",
        "$\\color{blue}{\\textit Your Answer:}$\n",
        "пункты 1, 2, 3 не меняют производительности.\n",
        "\n",
        "$\\color{blue}{\\textit Your Explanation:}$\n",
        "1. Вычитание среднего $\\mu$ не меняет разности между соответствующими пикселями разных изображений. Таким образом, L1 расстояния между изображениями остаются неизменными, и производительность классификатора не меняется.\n",
        "\n",
        "2. Вычитание среднего по каждому пикселю $\\mu_{ij}$ Разность между соответствующими пикселями двух изображений не меняется, поскольку из обоих вычитается одно и то же $\\mu_{ij}$. L1 расстояния остаются теми же, следовательно, производительность не изменится.\n",
        "\n",
        "3. Вычитание среднего $\\mu$ и деление на стандартное отклонение $\\sigma$ масштабирует все расстояния на постоянный множитель $\\frac{1}{\\sigma}$. Порядок расстояний между изображениями сохраняется, поэтому классификатор ближайших соседей будет давать тот же результат.\n",
        "\n",
        "4. Вычитание среднего и деление на стандартное отклонение по каждому пикселю масштабирует их на свой собственный множитель $\\frac{1}{\\sigma_{ij}}$. Это может изменить относительные расстояния между изображениями, что повлияет на производительность классификатора.\n",
        "\n",
        "5. Поворот координатных осей данных: Поворот данных может изменить L1 расстояния между изображениями, поскольку изменяются позиции пикселей и, соответственно, их значения в векторе признаков. Это может изменить порядок ближайших соседей и, следовательно, повлиять на производительность классификатора.\n",
        "\n"
      ]
    },
    {
      "cell_type": "markdown",
      "metadata": {
        "id": "2J5OuvpV2sDz"
      },
      "source": [
        "## Question 3\n",
        "\n",
        "Which of the following statements about $k$-Nearest Neighbor ($k$-NN) are true in a classification setting, and for all $k$? Select all that apply.\n",
        "1. The decision boundary (hyperplane between classes in feature space) of the k-NN classifier is linear.\n",
        "2. The training error of a 1-NN will always be lower than that of 5-NN.\n",
        "3. The test error of a 1-NN will always be lower than that of a 5-NN.\n",
        "4. The time needed to classify a test example with the k-NN classifier grows with the size of the training set.\n",
        "5. None of the above.\n",
        "\n",
        "$\\color{blue}{\\textit Your Answer:}$\n",
        "1. неверно\n",
        "2. верно\n",
        "3. неверно\n",
        "4. верно\n",
        "\n",
        "$\\color{blue}{\\textit Your Explanation:}$\n",
        "\n",
        "1. Граница решения для k-NN классификатора обычно нелинейная, особенно когда k = 1, так как классификатор находит ближайших соседей в сложных, неограниченных областях пространства признаков. K-NN не создает линейные гиперплоскости, как, например, линейные модели (логистическая регрессия, SVM с линейным ядром).\n",
        "\n",
        "2. Для 1-NN классификатора ошибка на обучающей выборке всегда будет минимальной, так как каждый объект классифицируется своим ближайшим соседом, которым он сам и является. У 5-NN могут быть ошибки на обучающей выборке, так как решение принимается на основе большего числа соседей.\n",
        "\n",
        "3. В 1-NN классификаторе на тестовой выборке может быть высокая ошибка из-за переобучения. Увеличение k  может уменьшить ошибку на тестовой выборке за счет лучшей обобщающей способности модели.\n",
        "\n",
        "4. В k-NN классификаторе для каждого тестового примера необходимо вычислить расстояние до всех обучающих примеров. Поэтому время классификации прямо пропорционально размеру обучающей выборки, особенно если выборка большая.\n",
        "\n",
        "\n"
      ]
    }
  ],
  "metadata": {
    "kernelspec": {
      "display_name": "mipt",
      "language": "python",
      "name": "mipt"
    },
    "language_info": {
      "codemirror_mode": {
        "name": "ipython",
        "version": 3
      },
      "file_extension": ".py",
      "mimetype": "text/x-python",
      "name": "python",
      "nbconvert_exporter": "python",
      "pygments_lexer": "ipython3",
      "version": "3.9.5"
    },
    "colab": {
      "provenance": []
    }
  },
  "nbformat": 4,
  "nbformat_minor": 0
}