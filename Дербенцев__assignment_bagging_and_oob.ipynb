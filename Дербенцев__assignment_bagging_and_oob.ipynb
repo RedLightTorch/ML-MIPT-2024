{
  "cells": [
    {
      "cell_type": "markdown",
      "id": "119c9460",
      "metadata": {
        "id": "119c9460"
      },
      "source": [
        "## Home assignment 05: Bagging and OOB score\n",
        "\n",
        "Please, fill the lines in the code below.\n",
        "This is a simplified version of `BaggingRegressor` from `sklearn`. Please, notice, that `sklearn` API is **not preserved**.\n",
        "\n",
        "Your algorithm should be able to train different instances of the same model class on bootstrapped datasets and to provide [OOB score](https://en.wikipedia.org/wiki/Out-of-bag_error) for the training set.\n",
        "\n",
        "The model should be passed as model class with no explicit parameters and no parentheses.\n",
        "\n",
        "Example:\n",
        "```\n",
        "import numpy as np\n",
        "from sklearn.linear_model import LinearRegression\n",
        "\n",
        "bagging_regressor = SimplifiedBaggingRegressor(num_bags=10, oob=True)\n",
        "bagging_regressor.fit(LinearRegression, X, y)\n",
        "\n",
        "```"
      ]
    },
    {
      "cell_type": "code",
      "execution_count": 11,
      "id": "31ecde34",
      "metadata": {
        "id": "31ecde34"
      },
      "outputs": [],
      "source": [
        "import numpy as np"
      ]
    },
    {
      "cell_type": "code",
      "source": [
        "import numpy as np\n",
        "\n",
        "class SimplifiedBaggingRegressor:\n",
        "    def __init__(self, num_bags, oob=False):\n",
        "        self.num_bags = num_bags\n",
        "        self.oob = oob\n",
        "\n",
        "    def _generate_splits(self, data: np.ndarray):\n",
        "        '''\n",
        "        Generate indices for every bag and store in self.indices_list list\n",
        "        '''\n",
        "        self.indices_list = []\n",
        "        data_length = len(data)\n",
        "        for bag in range(self.num_bags):\n",
        "            # Your Code Here\n",
        "            indices = np.random.choice(data_length, size=data_length, replace=True)\n",
        "            self.indices_list.append(indices)\n",
        "\n",
        "    def fit(self, model_constructor, data, target):\n",
        "        '''\n",
        "        Fit model on every bag.\n",
        "        Model constructor with no parameters (and with no ()) is passed to this function.\n",
        "\n",
        "        example:\n",
        "\n",
        "        bagging_regressor = SimplifiedBaggingRegressor(num_bags=10, oob=True)\n",
        "        bagging_regressor.fit(LinearRegression, X, y)\n",
        "        '''\n",
        "        self.data = None\n",
        "        self.target = None\n",
        "        self._generate_splits(data)\n",
        "        assert len(set(list(map(len, self.indices_list)))) == 1, 'All bags should be of the same length!'\n",
        "        assert list(map(len, self.indices_list))[0] == len(data), 'All bags should contain `len(data)` number of elements!'\n",
        "        self.models_list = []\n",
        "        self.oob_indices_list = [] #дополнительно создадим список списков индексов для ооб\n",
        "        for bag in range(self.num_bags):\n",
        "            model = model_constructor()\n",
        "            data_bag, target_bag = data[self.indices_list[bag]], target[self.indices_list[bag]]  # Your Code Here\n",
        "\n",
        "            self.models_list.append(model.fit(data_bag, target_bag)) # store fitted models here\n",
        "            oob_ind = np.setdiff1d(np.arange(len(data)), self.indices_list[bag]) # создаем список индексов не попавших в текущий бэг\n",
        "            self.oob_indices_list.append(oob_ind) # сохраняенм список списков индексов для ооб\n",
        "        if self.oob:\n",
        "            self.data = data  # Обеспечиваем установку self.data для дальнейшего использования в OOB_score\n",
        "            self.target = target\n",
        "    def predict(self, data):\n",
        "        '''\n",
        "        Get average prediction for every object from passed dataset\n",
        "        '''\n",
        "        # Your code here\n",
        "        predictions = np.array([model.predict(data) for model in self.models_list])\n",
        "        return np.mean(predictions, axis=0)\n",
        "\n",
        "    def _get_oob_predictions_from_every_model(self):\n",
        "        '''\n",
        "        Generates list of lists, where list i contains predictions for self.data[i] object\n",
        "        from all models, which have not seen this object during training phase\n",
        "        '''\n",
        "        list_of_predictions_lists = [[] for _ in range(len(self.data))]\n",
        "        # Your Code Here\n",
        "        for model, oob_ind in zip(self.models_list, self.oob_indices_list):\n",
        "            if len(oob_ind) > 0:  # Проверка, что oob_indices не пуст\n",
        "                oob_predictions = model.predict(self.data[oob_ind])\n",
        "                for idx, prediction in zip(oob_ind, oob_predictions):\n",
        "                    list_of_predictions_lists[idx].append(prediction)\n",
        "\n",
        "        self.list_of_predictions_lists = np.array(list_of_predictions_lists, dtype=object)\n",
        "\n",
        "    def _get_averaged_oob_predictions(self):\n",
        "        '''\n",
        "        Compute average prediction for every object from training set.\n",
        "        If object has been used in all bags on training phase, return np.nan instead of prediction\n",
        "        '''\n",
        "        self._get_oob_predictions_from_every_model()\n",
        "        self.oob_predictions = np.array([np.mean(predictions) if len(predictions) > 0 else np.nan for predictions in self.list_of_predictions_lists]) # Your Code Here\n",
        "\n",
        "    def OOB_score(self):\n",
        "        '''\n",
        "        Compute mean square error for all objects, which have at least one prediction\n",
        "        '''\n",
        "        self._get_averaged_oob_predictions()\n",
        "        squared_errors = []\n",
        "        # Проходим по каждому значению oob_predictions и target\n",
        "        for i in range(len(self.oob_predictions)):\n",
        "          if not np.isnan(self.oob_predictions[i]):  # Проверяем, не является ли значение np.nan\n",
        "            error = (self.target[i] - self.oob_predictions[i]) ** 2\n",
        "            squared_errors.append(error)\n",
        "        # Если список ошибок пуст, возвращаем np.nan, иначе считаем среднюю ошибку\n",
        "        return np.nan if len(squared_errors) == 0 else np.mean(squared_errors)\n",
        "\n"
      ],
      "metadata": {
        "id": "92hGelarwlM3"
      },
      "id": "92hGelarwlM3",
      "execution_count": 14,
      "outputs": []
    },
    {
      "cell_type": "markdown",
      "id": "5cfa174f",
      "metadata": {
        "id": "5cfa174f"
      },
      "source": [
        "### Local tests:"
      ]
    },
    {
      "cell_type": "code",
      "execution_count": 13,
      "id": "eaa2e710",
      "metadata": {
        "id": "eaa2e710"
      },
      "outputs": [],
      "source": [
        "from sklearn.linear_model import LinearRegression\n",
        "from tqdm.auto import tqdm"
      ]
    },
    {
      "cell_type": "markdown",
      "id": "b54221c2",
      "metadata": {
        "id": "b54221c2"
      },
      "source": [
        "#### Simple tests:"
      ]
    },
    {
      "cell_type": "code",
      "execution_count": 15,
      "id": "84c94a8b",
      "metadata": {
        "id": "84c94a8b",
        "colab": {
          "base_uri": "https://localhost:8080/",
          "height": 66,
          "referenced_widgets": [
            "a68d8bc304a8429182b350e0b5fd42f5",
            "56a057f692d94542a1d1f5f8c1d70c57",
            "9f6d6dc868bc44999ee7adda0a9a38b4",
            "566ade2f130948d4931f262c7646b742",
            "92578fe9a1a74d9ebc61b0c857c62573",
            "dd4d24f2fae540a988abf0011b96ac03",
            "8baae4ca18704f6983df9791bb3ab1f2",
            "92f3fc2a18af4d72acdee217b8e0f51c",
            "1bbc9c33e1c746028a40bc7cfe485f5a",
            "fcc539e3f4104aa4bea3bcc982a18448",
            "3a0f46b8f134454d8cd0074cf3507573"
          ]
        },
        "outputId": "9b1c2b1b-75e2-4e92-c3be-93ea6b766cc2"
      },
      "outputs": [
        {
          "output_type": "display_data",
          "data": {
            "text/plain": [
              "  0%|          | 0/100 [00:00<?, ?it/s]"
            ],
            "application/vnd.jupyter.widget-view+json": {
              "version_major": 2,
              "version_minor": 0,
              "model_id": "a68d8bc304a8429182b350e0b5fd42f5"
            }
          },
          "metadata": {}
        },
        {
          "output_type": "stream",
          "name": "stdout",
          "text": [
            "Simple tests done!\n"
          ]
        }
      ],
      "source": [
        "for _ in tqdm(range(100)):\n",
        "    X = np.random.randn(2000, 10)\n",
        "    y = np.mean(X, axis=1)\n",
        "    bagging_regressor = SimplifiedBaggingRegressor(num_bags=10, oob=True)\n",
        "    bagging_regressor.fit(LinearRegression, X, y)\n",
        "    predictions = bagging_regressor.predict(X)\n",
        "    assert np.mean((predictions - y)**2) < 1e-6, 'Linear dependency should be fitted with almost zero error!'\n",
        "    assert bagging_regressor.oob, 'OOB feature must be turned on'\n",
        "    oob_score = bagging_regressor.OOB_score()\n",
        "    assert oob_score < 1e-6, 'OOB error for linear dependency should be also close to zero!'\n",
        "    assert abs(\n",
        "        np.mean(\n",
        "            list(map(len, bagging_regressor.list_of_predictions_lists))\n",
        "        ) / bagging_regressor.num_bags - 1/np.exp(1)) < 0.1, 'Probability of missing a bag should be close to theoretical value!'\n",
        "\n",
        "print('Simple tests done!')"
      ]
    },
    {
      "cell_type": "markdown",
      "id": "4be4d037",
      "metadata": {
        "id": "4be4d037"
      },
      "source": [
        "#### Medium tests"
      ]
    },
    {
      "cell_type": "markdown",
      "source": [],
      "metadata": {
        "id": "31T6royn1IZK"
      },
      "id": "31T6royn1IZK"
    },
    {
      "cell_type": "code",
      "execution_count": 16,
      "id": "0cfd3a21",
      "metadata": {
        "id": "0cfd3a21",
        "colab": {
          "base_uri": "https://localhost:8080/",
          "height": 66,
          "referenced_widgets": [
            "87dff6646b4242b591ad5bee7bc4bb76",
            "2dc009321a3c4b289d76db988b40e2ee",
            "1951420c0877456daa5d9ed319b328cf",
            "fcdadc7dcd7b4419b3f95fe2be6cdb68",
            "6d13ee848b6f4c5ea865219fc2fc3b98",
            "7c5c10b9c6004397b9273641df7e2159",
            "15bd46648caa48b1ac7a11f95763054a",
            "90705a1546ce4047b268f8c8dc5b59b6",
            "38cddca11c644000bd3f2766abd639e2",
            "d7c950fbb6fd469da3df47fc9f66d809",
            "0f3396a07e25485d912c599b6d2bbc25"
          ]
        },
        "outputId": "69ac8a56-bc9f-4cc6-d476-86895605ceed"
      },
      "outputs": [
        {
          "output_type": "display_data",
          "data": {
            "text/plain": [
              "  0%|          | 0/10 [00:00<?, ?it/s]"
            ],
            "application/vnd.jupyter.widget-view+json": {
              "version_major": 2,
              "version_minor": 0,
              "model_id": "87dff6646b4242b591ad5bee7bc4bb76"
            }
          },
          "metadata": {}
        },
        {
          "output_type": "stream",
          "name": "stdout",
          "text": [
            "Medium tests done!\n"
          ]
        }
      ],
      "source": [
        "for _ in tqdm(range(10)):\n",
        "    X = np.random.randn(200, 150)\n",
        "    y = np.random.randn(len(X))\n",
        "    bagging_regressor = SimplifiedBaggingRegressor(num_bags=20, oob=True)\n",
        "    bagging_regressor.fit(LinearRegression, X, y)\n",
        "    predictions = bagging_regressor.predict(X)\n",
        "    average_train_error = np.mean((predictions - y)**2)\n",
        "    assert bagging_regressor.oob, 'OOB feature must be turned on'\n",
        "    oob_score = bagging_regressor.OOB_score()\n",
        "    assert oob_score > average_train_error, 'OOB error must be higher than train error due to overfitting!'\n",
        "    assert abs(\n",
        "        np.mean(\n",
        "            list(map(len, bagging_regressor.list_of_predictions_lists))\n",
        "        ) / bagging_regressor.num_bags - 1/np.exp(1)) < 0.1, 'Probability of missing a bag should be close to theoretical value!'\n",
        "\n",
        "print('Medium tests done!')"
      ]
    },
    {
      "cell_type": "markdown",
      "id": "725818ff",
      "metadata": {
        "id": "725818ff"
      },
      "source": [
        "#### Complex tests:"
      ]
    },
    {
      "cell_type": "code",
      "execution_count": 17,
      "id": "8f929d6b",
      "metadata": {
        "id": "8f929d6b",
        "colab": {
          "base_uri": "https://localhost:8080/",
          "height": 66,
          "referenced_widgets": [
            "469af02dc20e429aa540b258a3748166",
            "a4181fb36e334d28a9649bac82b534bd",
            "04d549516ffb413885581e6cf7c0bb9e",
            "413f3e30e86440beb2c4e10689ff02dd",
            "cfbea83e23094742ad008eeb6e30c193",
            "f342da2f04714c86954bb3f735e6c954",
            "1d5b45c1e0ae4e1dab8f0014c86f9730",
            "d31dbe9967e043f9b19acb0f1737883e",
            "d78abad7ebe8494d9d5f36b5782d2208",
            "92abf927687f47d78bb99c5c1e3db149",
            "c8359dd3d5044d43bc5740353653f22b"
          ]
        },
        "outputId": "3226d7e5-d405-4868-867f-c78a34873490"
      },
      "outputs": [
        {
          "output_type": "display_data",
          "data": {
            "text/plain": [
              "  0%|          | 0/10 [00:00<?, ?it/s]"
            ],
            "application/vnd.jupyter.widget-view+json": {
              "version_major": 2,
              "version_minor": 0,
              "model_id": "469af02dc20e429aa540b258a3748166"
            }
          },
          "metadata": {}
        },
        {
          "output_type": "stream",
          "name": "stdout",
          "text": [
            "Complex tests done!\n"
          ]
        }
      ],
      "source": [
        "for _ in tqdm(range(10)):\n",
        "    X = np.random.randn(2000, 15)\n",
        "    y = np.random.randn(len(X))\n",
        "    bagging_regressor = SimplifiedBaggingRegressor(num_bags=100, oob=True)\n",
        "    bagging_regressor.fit(LinearRegression, X, y)\n",
        "    predictions = bagging_regressor.predict(X)\n",
        "    oob_score = bagging_regressor.OOB_score()\n",
        "    assert abs(\n",
        "        np.mean(\n",
        "            list(map(len, bagging_regressor.list_of_predictions_lists))\n",
        "        ) / bagging_regressor.num_bags - 1/np.exp(1)) < 1e-2, 'Probability of missing a bag should be close to theoretical value!'\n",
        "\n",
        "print('Complex tests done!')"
      ]
    },
    {
      "cell_type": "code",
      "execution_count": 18,
      "id": "af170ef8",
      "metadata": {
        "id": "af170ef8",
        "colab": {
          "base_uri": "https://localhost:8080/"
        },
        "outputId": "cb76d4a9-f25c-4618-9564-d9ead67afead"
      },
      "outputs": [
        {
          "output_type": "execute_result",
          "data": {
            "text/plain": [
              "-0.001539441171442335"
            ]
          },
          "metadata": {},
          "execution_count": 18
        }
      ],
      "source": [
        "np.mean(\n",
        "            list(map(len, bagging_regressor.list_of_predictions_lists))\n",
        "        ) / bagging_regressor.num_bags - 1/np.exp(1)"
      ]
    },
    {
      "cell_type": "markdown",
      "id": "9535cb6d",
      "metadata": {
        "id": "9535cb6d"
      },
      "source": [
        "Great job! Please, save `SimplifiedBaggingRegressor` to  `bagging.py` and submit your solution to the grading system!"
      ]
    }
  ],
  "metadata": {
    "kernelspec": {
      "display_name": "Py3 Research",
      "language": "python",
      "name": "py3_research"
    },
    "language_info": {
      "codemirror_mode": {
        "name": "ipython",
        "version": 3
      },
      "file_extension": ".py",
      "mimetype": "text/x-python",
      "name": "python",
      "nbconvert_exporter": "python",
      "pygments_lexer": "ipython3",
      "version": "3.9.16"
    },
    "colab": {
      "provenance": []
    },
    "widgets": {
      "application/vnd.jupyter.widget-state+json": {
        "a68d8bc304a8429182b350e0b5fd42f5": {
          "model_module": "@jupyter-widgets/controls",
          "model_name": "HBoxModel",
          "model_module_version": "1.5.0",
          "state": {
            "_dom_classes": [],
            "_model_module": "@jupyter-widgets/controls",
            "_model_module_version": "1.5.0",
            "_model_name": "HBoxModel",
            "_view_count": null,
            "_view_module": "@jupyter-widgets/controls",
            "_view_module_version": "1.5.0",
            "_view_name": "HBoxView",
            "box_style": "",
            "children": [
              "IPY_MODEL_56a057f692d94542a1d1f5f8c1d70c57",
              "IPY_MODEL_9f6d6dc868bc44999ee7adda0a9a38b4",
              "IPY_MODEL_566ade2f130948d4931f262c7646b742"
            ],
            "layout": "IPY_MODEL_92578fe9a1a74d9ebc61b0c857c62573"
          }
        },
        "56a057f692d94542a1d1f5f8c1d70c57": {
          "model_module": "@jupyter-widgets/controls",
          "model_name": "HTMLModel",
          "model_module_version": "1.5.0",
          "state": {
            "_dom_classes": [],
            "_model_module": "@jupyter-widgets/controls",
            "_model_module_version": "1.5.0",
            "_model_name": "HTMLModel",
            "_view_count": null,
            "_view_module": "@jupyter-widgets/controls",
            "_view_module_version": "1.5.0",
            "_view_name": "HTMLView",
            "description": "",
            "description_tooltip": null,
            "layout": "IPY_MODEL_dd4d24f2fae540a988abf0011b96ac03",
            "placeholder": "​",
            "style": "IPY_MODEL_8baae4ca18704f6983df9791bb3ab1f2",
            "value": "100%"
          }
        },
        "9f6d6dc868bc44999ee7adda0a9a38b4": {
          "model_module": "@jupyter-widgets/controls",
          "model_name": "FloatProgressModel",
          "model_module_version": "1.5.0",
          "state": {
            "_dom_classes": [],
            "_model_module": "@jupyter-widgets/controls",
            "_model_module_version": "1.5.0",
            "_model_name": "FloatProgressModel",
            "_view_count": null,
            "_view_module": "@jupyter-widgets/controls",
            "_view_module_version": "1.5.0",
            "_view_name": "ProgressView",
            "bar_style": "success",
            "description": "",
            "description_tooltip": null,
            "layout": "IPY_MODEL_92f3fc2a18af4d72acdee217b8e0f51c",
            "max": 100,
            "min": 0,
            "orientation": "horizontal",
            "style": "IPY_MODEL_1bbc9c33e1c746028a40bc7cfe485f5a",
            "value": 100
          }
        },
        "566ade2f130948d4931f262c7646b742": {
          "model_module": "@jupyter-widgets/controls",
          "model_name": "HTMLModel",
          "model_module_version": "1.5.0",
          "state": {
            "_dom_classes": [],
            "_model_module": "@jupyter-widgets/controls",
            "_model_module_version": "1.5.0",
            "_model_name": "HTMLModel",
            "_view_count": null,
            "_view_module": "@jupyter-widgets/controls",
            "_view_module_version": "1.5.0",
            "_view_name": "HTMLView",
            "description": "",
            "description_tooltip": null,
            "layout": "IPY_MODEL_fcc539e3f4104aa4bea3bcc982a18448",
            "placeholder": "​",
            "style": "IPY_MODEL_3a0f46b8f134454d8cd0074cf3507573",
            "value": " 100/100 [00:17&lt;00:00,  5.34it/s]"
          }
        },
        "92578fe9a1a74d9ebc61b0c857c62573": {
          "model_module": "@jupyter-widgets/base",
          "model_name": "LayoutModel",
          "model_module_version": "1.2.0",
          "state": {
            "_model_module": "@jupyter-widgets/base",
            "_model_module_version": "1.2.0",
            "_model_name": "LayoutModel",
            "_view_count": null,
            "_view_module": "@jupyter-widgets/base",
            "_view_module_version": "1.2.0",
            "_view_name": "LayoutView",
            "align_content": null,
            "align_items": null,
            "align_self": null,
            "border": null,
            "bottom": null,
            "display": null,
            "flex": null,
            "flex_flow": null,
            "grid_area": null,
            "grid_auto_columns": null,
            "grid_auto_flow": null,
            "grid_auto_rows": null,
            "grid_column": null,
            "grid_gap": null,
            "grid_row": null,
            "grid_template_areas": null,
            "grid_template_columns": null,
            "grid_template_rows": null,
            "height": null,
            "justify_content": null,
            "justify_items": null,
            "left": null,
            "margin": null,
            "max_height": null,
            "max_width": null,
            "min_height": null,
            "min_width": null,
            "object_fit": null,
            "object_position": null,
            "order": null,
            "overflow": null,
            "overflow_x": null,
            "overflow_y": null,
            "padding": null,
            "right": null,
            "top": null,
            "visibility": null,
            "width": null
          }
        },
        "dd4d24f2fae540a988abf0011b96ac03": {
          "model_module": "@jupyter-widgets/base",
          "model_name": "LayoutModel",
          "model_module_version": "1.2.0",
          "state": {
            "_model_module": "@jupyter-widgets/base",
            "_model_module_version": "1.2.0",
            "_model_name": "LayoutModel",
            "_view_count": null,
            "_view_module": "@jupyter-widgets/base",
            "_view_module_version": "1.2.0",
            "_view_name": "LayoutView",
            "align_content": null,
            "align_items": null,
            "align_self": null,
            "border": null,
            "bottom": null,
            "display": null,
            "flex": null,
            "flex_flow": null,
            "grid_area": null,
            "grid_auto_columns": null,
            "grid_auto_flow": null,
            "grid_auto_rows": null,
            "grid_column": null,
            "grid_gap": null,
            "grid_row": null,
            "grid_template_areas": null,
            "grid_template_columns": null,
            "grid_template_rows": null,
            "height": null,
            "justify_content": null,
            "justify_items": null,
            "left": null,
            "margin": null,
            "max_height": null,
            "max_width": null,
            "min_height": null,
            "min_width": null,
            "object_fit": null,
            "object_position": null,
            "order": null,
            "overflow": null,
            "overflow_x": null,
            "overflow_y": null,
            "padding": null,
            "right": null,
            "top": null,
            "visibility": null,
            "width": null
          }
        },
        "8baae4ca18704f6983df9791bb3ab1f2": {
          "model_module": "@jupyter-widgets/controls",
          "model_name": "DescriptionStyleModel",
          "model_module_version": "1.5.0",
          "state": {
            "_model_module": "@jupyter-widgets/controls",
            "_model_module_version": "1.5.0",
            "_model_name": "DescriptionStyleModel",
            "_view_count": null,
            "_view_module": "@jupyter-widgets/base",
            "_view_module_version": "1.2.0",
            "_view_name": "StyleView",
            "description_width": ""
          }
        },
        "92f3fc2a18af4d72acdee217b8e0f51c": {
          "model_module": "@jupyter-widgets/base",
          "model_name": "LayoutModel",
          "model_module_version": "1.2.0",
          "state": {
            "_model_module": "@jupyter-widgets/base",
            "_model_module_version": "1.2.0",
            "_model_name": "LayoutModel",
            "_view_count": null,
            "_view_module": "@jupyter-widgets/base",
            "_view_module_version": "1.2.0",
            "_view_name": "LayoutView",
            "align_content": null,
            "align_items": null,
            "align_self": null,
            "border": null,
            "bottom": null,
            "display": null,
            "flex": null,
            "flex_flow": null,
            "grid_area": null,
            "grid_auto_columns": null,
            "grid_auto_flow": null,
            "grid_auto_rows": null,
            "grid_column": null,
            "grid_gap": null,
            "grid_row": null,
            "grid_template_areas": null,
            "grid_template_columns": null,
            "grid_template_rows": null,
            "height": null,
            "justify_content": null,
            "justify_items": null,
            "left": null,
            "margin": null,
            "max_height": null,
            "max_width": null,
            "min_height": null,
            "min_width": null,
            "object_fit": null,
            "object_position": null,
            "order": null,
            "overflow": null,
            "overflow_x": null,
            "overflow_y": null,
            "padding": null,
            "right": null,
            "top": null,
            "visibility": null,
            "width": null
          }
        },
        "1bbc9c33e1c746028a40bc7cfe485f5a": {
          "model_module": "@jupyter-widgets/controls",
          "model_name": "ProgressStyleModel",
          "model_module_version": "1.5.0",
          "state": {
            "_model_module": "@jupyter-widgets/controls",
            "_model_module_version": "1.5.0",
            "_model_name": "ProgressStyleModel",
            "_view_count": null,
            "_view_module": "@jupyter-widgets/base",
            "_view_module_version": "1.2.0",
            "_view_name": "StyleView",
            "bar_color": null,
            "description_width": ""
          }
        },
        "fcc539e3f4104aa4bea3bcc982a18448": {
          "model_module": "@jupyter-widgets/base",
          "model_name": "LayoutModel",
          "model_module_version": "1.2.0",
          "state": {
            "_model_module": "@jupyter-widgets/base",
            "_model_module_version": "1.2.0",
            "_model_name": "LayoutModel",
            "_view_count": null,
            "_view_module": "@jupyter-widgets/base",
            "_view_module_version": "1.2.0",
            "_view_name": "LayoutView",
            "align_content": null,
            "align_items": null,
            "align_self": null,
            "border": null,
            "bottom": null,
            "display": null,
            "flex": null,
            "flex_flow": null,
            "grid_area": null,
            "grid_auto_columns": null,
            "grid_auto_flow": null,
            "grid_auto_rows": null,
            "grid_column": null,
            "grid_gap": null,
            "grid_row": null,
            "grid_template_areas": null,
            "grid_template_columns": null,
            "grid_template_rows": null,
            "height": null,
            "justify_content": null,
            "justify_items": null,
            "left": null,
            "margin": null,
            "max_height": null,
            "max_width": null,
            "min_height": null,
            "min_width": null,
            "object_fit": null,
            "object_position": null,
            "order": null,
            "overflow": null,
            "overflow_x": null,
            "overflow_y": null,
            "padding": null,
            "right": null,
            "top": null,
            "visibility": null,
            "width": null
          }
        },
        "3a0f46b8f134454d8cd0074cf3507573": {
          "model_module": "@jupyter-widgets/controls",
          "model_name": "DescriptionStyleModel",
          "model_module_version": "1.5.0",
          "state": {
            "_model_module": "@jupyter-widgets/controls",
            "_model_module_version": "1.5.0",
            "_model_name": "DescriptionStyleModel",
            "_view_count": null,
            "_view_module": "@jupyter-widgets/base",
            "_view_module_version": "1.2.0",
            "_view_name": "StyleView",
            "description_width": ""
          }
        },
        "87dff6646b4242b591ad5bee7bc4bb76": {
          "model_module": "@jupyter-widgets/controls",
          "model_name": "HBoxModel",
          "model_module_version": "1.5.0",
          "state": {
            "_dom_classes": [],
            "_model_module": "@jupyter-widgets/controls",
            "_model_module_version": "1.5.0",
            "_model_name": "HBoxModel",
            "_view_count": null,
            "_view_module": "@jupyter-widgets/controls",
            "_view_module_version": "1.5.0",
            "_view_name": "HBoxView",
            "box_style": "",
            "children": [
              "IPY_MODEL_2dc009321a3c4b289d76db988b40e2ee",
              "IPY_MODEL_1951420c0877456daa5d9ed319b328cf",
              "IPY_MODEL_fcdadc7dcd7b4419b3f95fe2be6cdb68"
            ],
            "layout": "IPY_MODEL_6d13ee848b6f4c5ea865219fc2fc3b98"
          }
        },
        "2dc009321a3c4b289d76db988b40e2ee": {
          "model_module": "@jupyter-widgets/controls",
          "model_name": "HTMLModel",
          "model_module_version": "1.5.0",
          "state": {
            "_dom_classes": [],
            "_model_module": "@jupyter-widgets/controls",
            "_model_module_version": "1.5.0",
            "_model_name": "HTMLModel",
            "_view_count": null,
            "_view_module": "@jupyter-widgets/controls",
            "_view_module_version": "1.5.0",
            "_view_name": "HTMLView",
            "description": "",
            "description_tooltip": null,
            "layout": "IPY_MODEL_7c5c10b9c6004397b9273641df7e2159",
            "placeholder": "​",
            "style": "IPY_MODEL_15bd46648caa48b1ac7a11f95763054a",
            "value": "100%"
          }
        },
        "1951420c0877456daa5d9ed319b328cf": {
          "model_module": "@jupyter-widgets/controls",
          "model_name": "FloatProgressModel",
          "model_module_version": "1.5.0",
          "state": {
            "_dom_classes": [],
            "_model_module": "@jupyter-widgets/controls",
            "_model_module_version": "1.5.0",
            "_model_name": "FloatProgressModel",
            "_view_count": null,
            "_view_module": "@jupyter-widgets/controls",
            "_view_module_version": "1.5.0",
            "_view_name": "ProgressView",
            "bar_style": "success",
            "description": "",
            "description_tooltip": null,
            "layout": "IPY_MODEL_90705a1546ce4047b268f8c8dc5b59b6",
            "max": 10,
            "min": 0,
            "orientation": "horizontal",
            "style": "IPY_MODEL_38cddca11c644000bd3f2766abd639e2",
            "value": 10
          }
        },
        "fcdadc7dcd7b4419b3f95fe2be6cdb68": {
          "model_module": "@jupyter-widgets/controls",
          "model_name": "HTMLModel",
          "model_module_version": "1.5.0",
          "state": {
            "_dom_classes": [],
            "_model_module": "@jupyter-widgets/controls",
            "_model_module_version": "1.5.0",
            "_model_name": "HTMLModel",
            "_view_count": null,
            "_view_module": "@jupyter-widgets/controls",
            "_view_module_version": "1.5.0",
            "_view_name": "HTMLView",
            "description": "",
            "description_tooltip": null,
            "layout": "IPY_MODEL_d7c950fbb6fd469da3df47fc9f66d809",
            "placeholder": "​",
            "style": "IPY_MODEL_0f3396a07e25485d912c599b6d2bbc25",
            "value": " 10/10 [00:02&lt;00:00,  3.94it/s]"
          }
        },
        "6d13ee848b6f4c5ea865219fc2fc3b98": {
          "model_module": "@jupyter-widgets/base",
          "model_name": "LayoutModel",
          "model_module_version": "1.2.0",
          "state": {
            "_model_module": "@jupyter-widgets/base",
            "_model_module_version": "1.2.0",
            "_model_name": "LayoutModel",
            "_view_count": null,
            "_view_module": "@jupyter-widgets/base",
            "_view_module_version": "1.2.0",
            "_view_name": "LayoutView",
            "align_content": null,
            "align_items": null,
            "align_self": null,
            "border": null,
            "bottom": null,
            "display": null,
            "flex": null,
            "flex_flow": null,
            "grid_area": null,
            "grid_auto_columns": null,
            "grid_auto_flow": null,
            "grid_auto_rows": null,
            "grid_column": null,
            "grid_gap": null,
            "grid_row": null,
            "grid_template_areas": null,
            "grid_template_columns": null,
            "grid_template_rows": null,
            "height": null,
            "justify_content": null,
            "justify_items": null,
            "left": null,
            "margin": null,
            "max_height": null,
            "max_width": null,
            "min_height": null,
            "min_width": null,
            "object_fit": null,
            "object_position": null,
            "order": null,
            "overflow": null,
            "overflow_x": null,
            "overflow_y": null,
            "padding": null,
            "right": null,
            "top": null,
            "visibility": null,
            "width": null
          }
        },
        "7c5c10b9c6004397b9273641df7e2159": {
          "model_module": "@jupyter-widgets/base",
          "model_name": "LayoutModel",
          "model_module_version": "1.2.0",
          "state": {
            "_model_module": "@jupyter-widgets/base",
            "_model_module_version": "1.2.0",
            "_model_name": "LayoutModel",
            "_view_count": null,
            "_view_module": "@jupyter-widgets/base",
            "_view_module_version": "1.2.0",
            "_view_name": "LayoutView",
            "align_content": null,
            "align_items": null,
            "align_self": null,
            "border": null,
            "bottom": null,
            "display": null,
            "flex": null,
            "flex_flow": null,
            "grid_area": null,
            "grid_auto_columns": null,
            "grid_auto_flow": null,
            "grid_auto_rows": null,
            "grid_column": null,
            "grid_gap": null,
            "grid_row": null,
            "grid_template_areas": null,
            "grid_template_columns": null,
            "grid_template_rows": null,
            "height": null,
            "justify_content": null,
            "justify_items": null,
            "left": null,
            "margin": null,
            "max_height": null,
            "max_width": null,
            "min_height": null,
            "min_width": null,
            "object_fit": null,
            "object_position": null,
            "order": null,
            "overflow": null,
            "overflow_x": null,
            "overflow_y": null,
            "padding": null,
            "right": null,
            "top": null,
            "visibility": null,
            "width": null
          }
        },
        "15bd46648caa48b1ac7a11f95763054a": {
          "model_module": "@jupyter-widgets/controls",
          "model_name": "DescriptionStyleModel",
          "model_module_version": "1.5.0",
          "state": {
            "_model_module": "@jupyter-widgets/controls",
            "_model_module_version": "1.5.0",
            "_model_name": "DescriptionStyleModel",
            "_view_count": null,
            "_view_module": "@jupyter-widgets/base",
            "_view_module_version": "1.2.0",
            "_view_name": "StyleView",
            "description_width": ""
          }
        },
        "90705a1546ce4047b268f8c8dc5b59b6": {
          "model_module": "@jupyter-widgets/base",
          "model_name": "LayoutModel",
          "model_module_version": "1.2.0",
          "state": {
            "_model_module": "@jupyter-widgets/base",
            "_model_module_version": "1.2.0",
            "_model_name": "LayoutModel",
            "_view_count": null,
            "_view_module": "@jupyter-widgets/base",
            "_view_module_version": "1.2.0",
            "_view_name": "LayoutView",
            "align_content": null,
            "align_items": null,
            "align_self": null,
            "border": null,
            "bottom": null,
            "display": null,
            "flex": null,
            "flex_flow": null,
            "grid_area": null,
            "grid_auto_columns": null,
            "grid_auto_flow": null,
            "grid_auto_rows": null,
            "grid_column": null,
            "grid_gap": null,
            "grid_row": null,
            "grid_template_areas": null,
            "grid_template_columns": null,
            "grid_template_rows": null,
            "height": null,
            "justify_content": null,
            "justify_items": null,
            "left": null,
            "margin": null,
            "max_height": null,
            "max_width": null,
            "min_height": null,
            "min_width": null,
            "object_fit": null,
            "object_position": null,
            "order": null,
            "overflow": null,
            "overflow_x": null,
            "overflow_y": null,
            "padding": null,
            "right": null,
            "top": null,
            "visibility": null,
            "width": null
          }
        },
        "38cddca11c644000bd3f2766abd639e2": {
          "model_module": "@jupyter-widgets/controls",
          "model_name": "ProgressStyleModel",
          "model_module_version": "1.5.0",
          "state": {
            "_model_module": "@jupyter-widgets/controls",
            "_model_module_version": "1.5.0",
            "_model_name": "ProgressStyleModel",
            "_view_count": null,
            "_view_module": "@jupyter-widgets/base",
            "_view_module_version": "1.2.0",
            "_view_name": "StyleView",
            "bar_color": null,
            "description_width": ""
          }
        },
        "d7c950fbb6fd469da3df47fc9f66d809": {
          "model_module": "@jupyter-widgets/base",
          "model_name": "LayoutModel",
          "model_module_version": "1.2.0",
          "state": {
            "_model_module": "@jupyter-widgets/base",
            "_model_module_version": "1.2.0",
            "_model_name": "LayoutModel",
            "_view_count": null,
            "_view_module": "@jupyter-widgets/base",
            "_view_module_version": "1.2.0",
            "_view_name": "LayoutView",
            "align_content": null,
            "align_items": null,
            "align_self": null,
            "border": null,
            "bottom": null,
            "display": null,
            "flex": null,
            "flex_flow": null,
            "grid_area": null,
            "grid_auto_columns": null,
            "grid_auto_flow": null,
            "grid_auto_rows": null,
            "grid_column": null,
            "grid_gap": null,
            "grid_row": null,
            "grid_template_areas": null,
            "grid_template_columns": null,
            "grid_template_rows": null,
            "height": null,
            "justify_content": null,
            "justify_items": null,
            "left": null,
            "margin": null,
            "max_height": null,
            "max_width": null,
            "min_height": null,
            "min_width": null,
            "object_fit": null,
            "object_position": null,
            "order": null,
            "overflow": null,
            "overflow_x": null,
            "overflow_y": null,
            "padding": null,
            "right": null,
            "top": null,
            "visibility": null,
            "width": null
          }
        },
        "0f3396a07e25485d912c599b6d2bbc25": {
          "model_module": "@jupyter-widgets/controls",
          "model_name": "DescriptionStyleModel",
          "model_module_version": "1.5.0",
          "state": {
            "_model_module": "@jupyter-widgets/controls",
            "_model_module_version": "1.5.0",
            "_model_name": "DescriptionStyleModel",
            "_view_count": null,
            "_view_module": "@jupyter-widgets/base",
            "_view_module_version": "1.2.0",
            "_view_name": "StyleView",
            "description_width": ""
          }
        },
        "469af02dc20e429aa540b258a3748166": {
          "model_module": "@jupyter-widgets/controls",
          "model_name": "HBoxModel",
          "model_module_version": "1.5.0",
          "state": {
            "_dom_classes": [],
            "_model_module": "@jupyter-widgets/controls",
            "_model_module_version": "1.5.0",
            "_model_name": "HBoxModel",
            "_view_count": null,
            "_view_module": "@jupyter-widgets/controls",
            "_view_module_version": "1.5.0",
            "_view_name": "HBoxView",
            "box_style": "",
            "children": [
              "IPY_MODEL_a4181fb36e334d28a9649bac82b534bd",
              "IPY_MODEL_04d549516ffb413885581e6cf7c0bb9e",
              "IPY_MODEL_413f3e30e86440beb2c4e10689ff02dd"
            ],
            "layout": "IPY_MODEL_cfbea83e23094742ad008eeb6e30c193"
          }
        },
        "a4181fb36e334d28a9649bac82b534bd": {
          "model_module": "@jupyter-widgets/controls",
          "model_name": "HTMLModel",
          "model_module_version": "1.5.0",
          "state": {
            "_dom_classes": [],
            "_model_module": "@jupyter-widgets/controls",
            "_model_module_version": "1.5.0",
            "_model_name": "HTMLModel",
            "_view_count": null,
            "_view_module": "@jupyter-widgets/controls",
            "_view_module_version": "1.5.0",
            "_view_name": "HTMLView",
            "description": "",
            "description_tooltip": null,
            "layout": "IPY_MODEL_f342da2f04714c86954bb3f735e6c954",
            "placeholder": "​",
            "style": "IPY_MODEL_1d5b45c1e0ae4e1dab8f0014c86f9730",
            "value": "100%"
          }
        },
        "04d549516ffb413885581e6cf7c0bb9e": {
          "model_module": "@jupyter-widgets/controls",
          "model_name": "FloatProgressModel",
          "model_module_version": "1.5.0",
          "state": {
            "_dom_classes": [],
            "_model_module": "@jupyter-widgets/controls",
            "_model_module_version": "1.5.0",
            "_model_name": "FloatProgressModel",
            "_view_count": null,
            "_view_module": "@jupyter-widgets/controls",
            "_view_module_version": "1.5.0",
            "_view_name": "ProgressView",
            "bar_style": "success",
            "description": "",
            "description_tooltip": null,
            "layout": "IPY_MODEL_d31dbe9967e043f9b19acb0f1737883e",
            "max": 10,
            "min": 0,
            "orientation": "horizontal",
            "style": "IPY_MODEL_d78abad7ebe8494d9d5f36b5782d2208",
            "value": 10
          }
        },
        "413f3e30e86440beb2c4e10689ff02dd": {
          "model_module": "@jupyter-widgets/controls",
          "model_name": "HTMLModel",
          "model_module_version": "1.5.0",
          "state": {
            "_dom_classes": [],
            "_model_module": "@jupyter-widgets/controls",
            "_model_module_version": "1.5.0",
            "_model_name": "HTMLModel",
            "_view_count": null,
            "_view_module": "@jupyter-widgets/controls",
            "_view_module_version": "1.5.0",
            "_view_name": "HTMLView",
            "description": "",
            "description_tooltip": null,
            "layout": "IPY_MODEL_92abf927687f47d78bb99c5c1e3db149",
            "placeholder": "​",
            "style": "IPY_MODEL_c8359dd3d5044d43bc5740353653f22b",
            "value": " 10/10 [00:08&lt;00:00,  1.11s/it]"
          }
        },
        "cfbea83e23094742ad008eeb6e30c193": {
          "model_module": "@jupyter-widgets/base",
          "model_name": "LayoutModel",
          "model_module_version": "1.2.0",
          "state": {
            "_model_module": "@jupyter-widgets/base",
            "_model_module_version": "1.2.0",
            "_model_name": "LayoutModel",
            "_view_count": null,
            "_view_module": "@jupyter-widgets/base",
            "_view_module_version": "1.2.0",
            "_view_name": "LayoutView",
            "align_content": null,
            "align_items": null,
            "align_self": null,
            "border": null,
            "bottom": null,
            "display": null,
            "flex": null,
            "flex_flow": null,
            "grid_area": null,
            "grid_auto_columns": null,
            "grid_auto_flow": null,
            "grid_auto_rows": null,
            "grid_column": null,
            "grid_gap": null,
            "grid_row": null,
            "grid_template_areas": null,
            "grid_template_columns": null,
            "grid_template_rows": null,
            "height": null,
            "justify_content": null,
            "justify_items": null,
            "left": null,
            "margin": null,
            "max_height": null,
            "max_width": null,
            "min_height": null,
            "min_width": null,
            "object_fit": null,
            "object_position": null,
            "order": null,
            "overflow": null,
            "overflow_x": null,
            "overflow_y": null,
            "padding": null,
            "right": null,
            "top": null,
            "visibility": null,
            "width": null
          }
        },
        "f342da2f04714c86954bb3f735e6c954": {
          "model_module": "@jupyter-widgets/base",
          "model_name": "LayoutModel",
          "model_module_version": "1.2.0",
          "state": {
            "_model_module": "@jupyter-widgets/base",
            "_model_module_version": "1.2.0",
            "_model_name": "LayoutModel",
            "_view_count": null,
            "_view_module": "@jupyter-widgets/base",
            "_view_module_version": "1.2.0",
            "_view_name": "LayoutView",
            "align_content": null,
            "align_items": null,
            "align_self": null,
            "border": null,
            "bottom": null,
            "display": null,
            "flex": null,
            "flex_flow": null,
            "grid_area": null,
            "grid_auto_columns": null,
            "grid_auto_flow": null,
            "grid_auto_rows": null,
            "grid_column": null,
            "grid_gap": null,
            "grid_row": null,
            "grid_template_areas": null,
            "grid_template_columns": null,
            "grid_template_rows": null,
            "height": null,
            "justify_content": null,
            "justify_items": null,
            "left": null,
            "margin": null,
            "max_height": null,
            "max_width": null,
            "min_height": null,
            "min_width": null,
            "object_fit": null,
            "object_position": null,
            "order": null,
            "overflow": null,
            "overflow_x": null,
            "overflow_y": null,
            "padding": null,
            "right": null,
            "top": null,
            "visibility": null,
            "width": null
          }
        },
        "1d5b45c1e0ae4e1dab8f0014c86f9730": {
          "model_module": "@jupyter-widgets/controls",
          "model_name": "DescriptionStyleModel",
          "model_module_version": "1.5.0",
          "state": {
            "_model_module": "@jupyter-widgets/controls",
            "_model_module_version": "1.5.0",
            "_model_name": "DescriptionStyleModel",
            "_view_count": null,
            "_view_module": "@jupyter-widgets/base",
            "_view_module_version": "1.2.0",
            "_view_name": "StyleView",
            "description_width": ""
          }
        },
        "d31dbe9967e043f9b19acb0f1737883e": {
          "model_module": "@jupyter-widgets/base",
          "model_name": "LayoutModel",
          "model_module_version": "1.2.0",
          "state": {
            "_model_module": "@jupyter-widgets/base",
            "_model_module_version": "1.2.0",
            "_model_name": "LayoutModel",
            "_view_count": null,
            "_view_module": "@jupyter-widgets/base",
            "_view_module_version": "1.2.0",
            "_view_name": "LayoutView",
            "align_content": null,
            "align_items": null,
            "align_self": null,
            "border": null,
            "bottom": null,
            "display": null,
            "flex": null,
            "flex_flow": null,
            "grid_area": null,
            "grid_auto_columns": null,
            "grid_auto_flow": null,
            "grid_auto_rows": null,
            "grid_column": null,
            "grid_gap": null,
            "grid_row": null,
            "grid_template_areas": null,
            "grid_template_columns": null,
            "grid_template_rows": null,
            "height": null,
            "justify_content": null,
            "justify_items": null,
            "left": null,
            "margin": null,
            "max_height": null,
            "max_width": null,
            "min_height": null,
            "min_width": null,
            "object_fit": null,
            "object_position": null,
            "order": null,
            "overflow": null,
            "overflow_x": null,
            "overflow_y": null,
            "padding": null,
            "right": null,
            "top": null,
            "visibility": null,
            "width": null
          }
        },
        "d78abad7ebe8494d9d5f36b5782d2208": {
          "model_module": "@jupyter-widgets/controls",
          "model_name": "ProgressStyleModel",
          "model_module_version": "1.5.0",
          "state": {
            "_model_module": "@jupyter-widgets/controls",
            "_model_module_version": "1.5.0",
            "_model_name": "ProgressStyleModel",
            "_view_count": null,
            "_view_module": "@jupyter-widgets/base",
            "_view_module_version": "1.2.0",
            "_view_name": "StyleView",
            "bar_color": null,
            "description_width": ""
          }
        },
        "92abf927687f47d78bb99c5c1e3db149": {
          "model_module": "@jupyter-widgets/base",
          "model_name": "LayoutModel",
          "model_module_version": "1.2.0",
          "state": {
            "_model_module": "@jupyter-widgets/base",
            "_model_module_version": "1.2.0",
            "_model_name": "LayoutModel",
            "_view_count": null,
            "_view_module": "@jupyter-widgets/base",
            "_view_module_version": "1.2.0",
            "_view_name": "LayoutView",
            "align_content": null,
            "align_items": null,
            "align_self": null,
            "border": null,
            "bottom": null,
            "display": null,
            "flex": null,
            "flex_flow": null,
            "grid_area": null,
            "grid_auto_columns": null,
            "grid_auto_flow": null,
            "grid_auto_rows": null,
            "grid_column": null,
            "grid_gap": null,
            "grid_row": null,
            "grid_template_areas": null,
            "grid_template_columns": null,
            "grid_template_rows": null,
            "height": null,
            "justify_content": null,
            "justify_items": null,
            "left": null,
            "margin": null,
            "max_height": null,
            "max_width": null,
            "min_height": null,
            "min_width": null,
            "object_fit": null,
            "object_position": null,
            "order": null,
            "overflow": null,
            "overflow_x": null,
            "overflow_y": null,
            "padding": null,
            "right": null,
            "top": null,
            "visibility": null,
            "width": null
          }
        },
        "c8359dd3d5044d43bc5740353653f22b": {
          "model_module": "@jupyter-widgets/controls",
          "model_name": "DescriptionStyleModel",
          "model_module_version": "1.5.0",
          "state": {
            "_model_module": "@jupyter-widgets/controls",
            "_model_module_version": "1.5.0",
            "_model_name": "DescriptionStyleModel",
            "_view_count": null,
            "_view_module": "@jupyter-widgets/base",
            "_view_module_version": "1.2.0",
            "_view_name": "StyleView",
            "description_width": ""
          }
        }
      }
    }
  },
  "nbformat": 4,
  "nbformat_minor": 5
}